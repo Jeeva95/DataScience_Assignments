{
 "cells": [
  {
   "cell_type": "markdown",
   "id": "fad8c07d",
   "metadata": {},
   "source": [
    "# 1. What are the two values of the Boolean data type? How do you write them?"
   ]
  },
  {
   "cell_type": "markdown",
   "id": "99820d33",
   "metadata": {},
   "source": [
    "- Python boolean type is one of the built-in data types provided by Python, which represents one of the two values i.e. True or False.\n",
    "\n",
    "**Python Boolean Type**\n",
    "The boolean value can be of two types only i.e. either True or False. The output <class ‘bool’> indicates the variable is a boolean data type."
   ]
  },
  {
   "cell_type": "code",
   "execution_count": 2,
   "id": "4154079b",
   "metadata": {},
   "outputs": [
    {
     "name": "stdout",
     "output_type": "stream",
     "text": [
      "<class 'bool'>\n"
     ]
    }
   ],
   "source": [
    "a = True\n",
    "print(type(a)) "
   ]
  },
  {
   "cell_type": "code",
   "execution_count": 3,
   "id": "6954b261",
   "metadata": {},
   "outputs": [
    {
     "name": "stdout",
     "output_type": "stream",
     "text": [
      "<class 'bool'>\n"
     ]
    }
   ],
   "source": [
    "b = False\n",
    "print(type(b))"
   ]
  },
  {
   "cell_type": "markdown",
   "id": "90760b61",
   "metadata": {},
   "source": [
    "# 2. What are the three different types of Boolean operators?"
   ]
  },
  {
   "cell_type": "markdown",
   "id": "a559d2fe",
   "metadata": {},
   "source": [
    "- Python Boolean operators are the type of operators that are used to perform logical operations on Boolean values which are either True or False. The AND, OR, and NOT operators are the three primary Boolean operators used in Python."
   ]
  },
  {
   "cell_type": "markdown",
   "id": "eb894e65",
   "metadata": {},
   "source": [
    "**AND operator**\n",
    "\n",
    "The first operator from the Python Boolean operators is the AND operator. This operator is used when evaluating multiple conditions and the result is True only if all the conditions evaluated are True, otherwise False."
   ]
  },
  {
   "cell_type": "code",
   "execution_count": 4,
   "id": "54a1f3d2",
   "metadata": {},
   "outputs": [
    {
     "name": "stdout",
     "output_type": "stream",
     "text": [
      "True\n",
      "False\n"
     ]
    }
   ],
   "source": [
    "# Consider the marks of four students\n",
    "ravi=78\n",
    "shyam=90\n",
    "giri=90\n",
    "mounika=56\n",
    "\n",
    "# Use the 'and' operator to evaluate below expressions\n",
    "print(shyam == giri and mounika < ravi)\n",
    "print(shyam == giri and mounika > ravi)"
   ]
  },
  {
   "cell_type": "markdown",
   "id": "e6772532",
   "metadata": {},
   "source": [
    "**OR operator**\n",
    "\n",
    "The second operator from the Python Boolean operators is the OR operator. Just like the AND operator, the OR operator is used to evaluate multiple conditions as well and the result is True if at least one of the conditions is True, otherwise False. "
   ]
  },
  {
   "cell_type": "code",
   "execution_count": 5,
   "id": "398799df",
   "metadata": {},
   "outputs": [
    {
     "name": "stdout",
     "output_type": "stream",
     "text": [
      "True\n",
      "False\n"
     ]
    }
   ],
   "source": [
    "# Use the 'or' operator to evaluate below expressions\n",
    "print(shyam == giri or mounika > ravi)\n",
    "print(shyam != giri or mounika > ravi)"
   ]
  },
  {
   "cell_type": "markdown",
   "id": "34341288",
   "metadata": {},
   "source": [
    "**NOT operator**\n",
    "\n",
    "The NOT operator is the last operator from the Python Boolean operators. This operator works differently as compared to the AND operator and OR operator. It is used to evaluate a single condition whilst AND and OR operators are for evaluating two or more conditions. The NOT operator inverts the Boolean value of an expression."
   ]
  },
  {
   "cell_type": "code",
   "execution_count": 7,
   "id": "61d8668d",
   "metadata": {},
   "outputs": [
    {
     "name": "stdout",
     "output_type": "stream",
     "text": [
      "The condition is False.\n"
     ]
    }
   ],
   "source": [
    "#Creating variables a and b\n",
    "a = 10\n",
    "b = 5\n",
    "\n",
    "# The not negates (a > b)\n",
    "if not (a > b):\n",
    "    print(f\"The condition is True.\")\n",
    "else:\n",
    "    # The else runs when the above check fails\n",
    "    print(f\"The condition is False.\")"
   ]
  },
  {
   "cell_type": "markdown",
   "id": "f7df2259",
   "metadata": {},
   "source": [
    "# 3. Make a list of each Boolean operator's truth tables (i.e. every possible combination of Boolean values for the operator and what it evaluate )."
   ]
  },
  {
   "attachments": {},
   "cell_type": "markdown",
   "id": "a3912baf",
   "metadata": {},
   "source": [
    "**AND operator**\n",
    "\n",
    "True(1) AND True(1) - True(1)\n",
    "\n",
    "True(1) AND False(0) - False(0)\n",
    "\n",
    "False(0) AND True(1)  - False(0)\n",
    "\n",
    "False(0) AND False(0) - False(0)\n",
    "\n",
    "\n"
   ]
  },
  {
   "cell_type": "markdown",
   "id": "dc1e5a63",
   "metadata": {},
   "source": [
    "**OR operator**\n",
    "\n",
    "True(1) AND True(1) - True(1)\n",
    "\n",
    "True(1) AND False(0) - False(0)\n",
    "\n",
    "False(0) AND True(1) - False(0)\n",
    "\n",
    "False(0) AND False(0) - False(0)"
   ]
  },
  {
   "cell_type": "markdown",
   "id": "daa54821",
   "metadata": {},
   "source": [
    "**NOT operator**\n",
    "\n",
    "True(1) - False(0)\n",
    "\n",
    "False(0) - True(1)"
   ]
  },
  {
   "cell_type": "markdown",
   "id": "36db5a3a",
   "metadata": {},
   "source": [
    "# 4. What are the values of the following expressions?\n",
    "\n",
    "(5 &gt; 4) and (3 == 5)\n",
    "\n",
    "not (5 &gt; 4)\n",
    "\n",
    "(5 &gt; 4) or (3 == 5)\n",
    "\n",
    "not ((5 &gt; 4) or (3 == 5))\n",
    "\n",
    "(True and True) and (True == False)\n",
    "\n",
    "(not False) or (not True)"
   ]
  },
  {
   "cell_type": "code",
   "execution_count": 8,
   "id": "0c053111",
   "metadata": {},
   "outputs": [
    {
     "name": "stdout",
     "output_type": "stream",
     "text": [
      "False\n"
     ]
    }
   ],
   "source": [
    "print((5>4) and (3==5))"
   ]
  },
  {
   "cell_type": "code",
   "execution_count": 9,
   "id": "86fc5453",
   "metadata": {},
   "outputs": [
    {
     "name": "stdout",
     "output_type": "stream",
     "text": [
      "False\n"
     ]
    }
   ],
   "source": [
    "print(not(5>4))"
   ]
  },
  {
   "cell_type": "code",
   "execution_count": 10,
   "id": "1564506a",
   "metadata": {},
   "outputs": [
    {
     "name": "stdout",
     "output_type": "stream",
     "text": [
      "True\n"
     ]
    }
   ],
   "source": [
    "print((5>4) or (3==5))"
   ]
  },
  {
   "cell_type": "code",
   "execution_count": 11,
   "id": "72e5ddb8",
   "metadata": {},
   "outputs": [
    {
     "name": "stdout",
     "output_type": "stream",
     "text": [
      "False\n"
     ]
    }
   ],
   "source": [
    "print(not(5>4) or (3==5))"
   ]
  },
  {
   "cell_type": "code",
   "execution_count": 12,
   "id": "b6c27a4c",
   "metadata": {},
   "outputs": [
    {
     "name": "stdout",
     "output_type": "stream",
     "text": [
      "False\n"
     ]
    }
   ],
   "source": [
    "print((True and True) and (True==False))"
   ]
  },
  {
   "cell_type": "code",
   "execution_count": 13,
   "id": "5aa45188",
   "metadata": {},
   "outputs": [
    {
     "name": "stdout",
     "output_type": "stream",
     "text": [
      "True\n"
     ]
    }
   ],
   "source": [
    "print((not(False))or(not(True)))"
   ]
  },
  {
   "cell_type": "markdown",
   "id": "52ddd444",
   "metadata": {},
   "source": [
    "# 5. What are the six comparison operators?"
   ]
  },
  {
   "cell_type": "markdown",
   "id": "17dbfdde",
   "metadata": {},
   "source": [
    "**List of comparison operators in Python**\n",
    "\n",
    "- Greater than\n",
    "\n",
    "- Less than\n",
    "\n",
    "- Equal to\n",
    "\n",
    "- Not equal to\n",
    "\n",
    "- Greater than or equal to\n",
    "\n",
    "- Less than or equal to"
   ]
  },
  {
   "cell_type": "markdown",
   "id": "aef93eca",
   "metadata": {},
   "source": [
    "**Greater than**\n",
    "\n",
    "Denoted by >, the greater than operator checks if the value on the left side is greater than the value on the right side. It returns True if the condition is satisfied, otherwise returns False."
   ]
  },
  {
   "cell_type": "code",
   "execution_count": 14,
   "id": "11e3219b",
   "metadata": {},
   "outputs": [
    {
     "name": "stdout",
     "output_type": "stream",
     "text": [
      "False\n",
      "True\n"
     ]
    }
   ],
   "source": [
    "x = 5\n",
    "y = 10\n",
    "res = x > y\n",
    "res1 = y > x\n",
    "print (res)\n",
    "print (res1)"
   ]
  },
  {
   "cell_type": "markdown",
   "id": "2950f527",
   "metadata": {},
   "source": [
    "**Less than**\n",
    "\n",
    "The less than operator is denoted by < sign and compares the values present on either side. If the value present on the left side is smaller than the value on the right side, it returns True otherwise it returns False."
   ]
  },
  {
   "cell_type": "code",
   "execution_count": 15,
   "id": "ac2ef73a",
   "metadata": {},
   "outputs": [
    {
     "name": "stdout",
     "output_type": "stream",
     "text": [
      "True\n",
      "False\n"
     ]
    }
   ],
   "source": [
    "x = 5\n",
    "y = 10\n",
    "res = x < y\n",
    "res1 = y < x\n",
    "print (res)\n",
    "print (res1)"
   ]
  },
  {
   "cell_type": "markdown",
   "id": "132af1cd",
   "metadata": {},
   "source": [
    "**Equal to**\n",
    "\n",
    "This operator is denoted by == and it returns True if both the values present on either side are equal."
   ]
  },
  {
   "cell_type": "code",
   "execution_count": 17,
   "id": "4c1b9053",
   "metadata": {},
   "outputs": [
    {
     "name": "stdout",
     "output_type": "stream",
     "text": [
      "True\n",
      "True\n"
     ]
    }
   ],
   "source": [
    "x = 5\n",
    "y = 5\n",
    "z = 5\n",
    "res = x == y\n",
    "res2 = x == z\n",
    "print (res)\n",
    "print (res2)"
   ]
  },
  {
   "cell_type": "markdown",
   "id": "2a6f34e4",
   "metadata": {},
   "source": [
    "**Not equal to**\n",
    "\n",
    "Symbolic representation of Not equal to operator is != and it returns True if one value is not equal to the other present in the condition."
   ]
  },
  {
   "cell_type": "code",
   "execution_count": 18,
   "id": "fba070d7",
   "metadata": {},
   "outputs": [
    {
     "name": "stdout",
     "output_type": "stream",
     "text": [
      "True\n"
     ]
    }
   ],
   "source": [
    "x = 5\n",
    "y = 10\n",
    "res = x != y\n",
    "print (res)"
   ]
  },
  {
   "cell_type": "markdown",
   "id": "f1f87fb2",
   "metadata": {},
   "source": [
    "**Greater than or equal to**\n",
    "\n",
    "This operator (>=) only returns True if the value on the left side is greater or equal to the value on the right side."
   ]
  },
  {
   "cell_type": "code",
   "execution_count": 19,
   "id": "dda132db",
   "metadata": {},
   "outputs": [
    {
     "name": "stdout",
     "output_type": "stream",
     "text": [
      "True\n",
      "False\n"
     ]
    }
   ],
   "source": [
    "x = 5\n",
    "y = 5\n",
    "z = 10\n",
    "res = x >= y\n",
    "res2 = x >= z\n",
    "print (res)\n",
    "print (res2)"
   ]
  },
  {
   "cell_type": "markdown",
   "id": "f33bd15b",
   "metadata": {},
   "source": [
    "**Less than or equal to**\n",
    "\n",
    "The last operator in the list is less than or equal to (<=). It compares the values and returns True if the value on the left side is smaller than or equal to the value to the value on the right side."
   ]
  },
  {
   "cell_type": "code",
   "execution_count": 20,
   "id": "0f4a800c",
   "metadata": {},
   "outputs": [
    {
     "name": "stdout",
     "output_type": "stream",
     "text": [
      "True\n",
      "True\n"
     ]
    }
   ],
   "source": [
    "x = 5\n",
    "y = 5\n",
    "z = 10\n",
    "res = x <= y\n",
    "res1 = x <= z\n",
    "print (res)\n",
    "print (res1)"
   ]
  },
  {
   "cell_type": "markdown",
   "id": "b23093e3",
   "metadata": {},
   "source": [
    "# 6. How do you tell the difference between the equal to and assignment operators?Describe a condition and when you would use one."
   ]
  },
  {
   "cell_type": "markdown",
   "id": "2bc707b4",
   "metadata": {},
   "source": [
    "**Assignment Operator (=)**\n",
    "\n",
    "- The “=” is an assignment operator used to assign the value on the right to the variable on the left. "
   ]
  },
  {
   "cell_type": "code",
   "execution_count": 23,
   "id": "aacb755b",
   "metadata": {},
   "outputs": [
    {
     "name": "stdout",
     "output_type": "stream",
     "text": [
      "20\n"
     ]
    }
   ],
   "source": [
    "x = 20\n",
    "print(x)"
   ]
  },
  {
   "cell_type": "code",
   "execution_count": 24,
   "id": "d2d64d0c",
   "metadata": {},
   "outputs": [
    {
     "name": "stdout",
     "output_type": "stream",
     "text": [
      "30\n"
     ]
    }
   ],
   "source": [
    "y = 30\n",
    "print(y)"
   ]
  },
  {
   "cell_type": "markdown",
   "id": "a9fc0252",
   "metadata": {},
   "source": [
    "**Equal to operator (==)**\n",
    "\n",
    "- The ‘==’ is known as the equality operator.\n",
    "\n",
    "- The == operator helps us compare the equality of objects.\n",
    "\n",
    "- We use the == operator in Python when the values of both the operands are very much equal. Thus, the condition would become true here."
   ]
  },
  {
   "cell_type": "code",
   "execution_count": 21,
   "id": "d96ffc1e",
   "metadata": {},
   "outputs": [
    {
     "name": "stdout",
     "output_type": "stream",
     "text": [
      "True\n"
     ]
    }
   ],
   "source": [
    "list1 = []\n",
    "list2 = []\n",
    " \n",
    "if (list1 == list2):\n",
    "    print(\"True\")\n",
    "else:\n",
    "    print(\"False\")"
   ]
  },
  {
   "cell_type": "markdown",
   "id": "8224a5b4",
   "metadata": {},
   "source": [
    "# 7. Identify the three blocks in this code:\n",
    "\n",
    "spam = 0\n",
    "\n",
    "if spam == 10:\n",
    "\n",
    "print(&#39;eggs&#39;)\n",
    "\n",
    "if spam &gt; 5:\n",
    "\n",
    "print(&#39;bacon&#39;)\n",
    "\n",
    "else:\n",
    "\n",
    "print(&#39;ham&#39;)\n",
    "\n",
    "print(&#39;spam&#39;)\n",
    "\n",
    "print(&#39;spam&#39;)"
   ]
  },
  {
   "cell_type": "code",
   "execution_count": 27,
   "id": "4bde12ed",
   "metadata": {},
   "outputs": [
    {
     "name": "stdout",
     "output_type": "stream",
     "text": [
      "ham\n",
      "spam\n",
      "spam\n"
     ]
    }
   ],
   "source": [
    "spam = 0\n",
    "\n",
    "if spam == 10:\n",
    "    print('eggs') #Block 1\n",
    "    \n",
    "if spam > 5:\n",
    "    print('bacon') #Block 2\n",
    "    \n",
    "else:\n",
    "    print('ham') #Block 3\n",
    "    print('spam')\n",
    "    print('spam')"
   ]
  },
  {
   "cell_type": "markdown",
   "id": "87f0687d",
   "metadata": {},
   "source": [
    "# 8. Write code that prints Hello if 1 is stored in spam, prints Howdy if 2 is stored in spam, and prints Greetings! if anything else is stored in spam."
   ]
  },
  {
   "cell_type": "code",
   "execution_count": 28,
   "id": "6c68d550",
   "metadata": {},
   "outputs": [
    {
     "name": "stdout",
     "output_type": "stream",
     "text": [
      "Input a no.1\n",
      "Hello\n"
     ]
    }
   ],
   "source": [
    "spam = int(input(\"Input a no.\"))\n",
    "\n",
    "if spam == 1:\n",
    "    print(\"Hello\")\n",
    "    \n",
    "elif spam == 2:\n",
    "    print(\"Howdy\")\n",
    "    \n",
    "else:\n",
    "    print(\"Greetings!\")        "
   ]
  },
  {
   "cell_type": "markdown",
   "id": "523347d0",
   "metadata": {},
   "source": [
    "# 9.If your programme is stuck in an endless loop, what keys you’ll press?"
   ]
  },
  {
   "cell_type": "markdown",
   "id": "6296de60",
   "metadata": {},
   "source": [
    "- An infinite loop is a loop that runs indefinitely and it only stops with external intervention or when a break statement is found. \n",
    "\n",
    "- You can stop an infinite loop with CTRL + C ."
   ]
  },
  {
   "cell_type": "markdown",
   "id": "78c863e0",
   "metadata": {},
   "source": [
    "# 10. How can you tell the difference between break and continue?"
   ]
  },
  {
   "cell_type": "markdown",
   "id": "a7c37162",
   "metadata": {},
   "source": [
    "**break**\n",
    "\n",
    "- A break statement is used to terminate the loop whenever a particular condition is satisfied. \n",
    "- The statement is there just next after the loop receives control of the program. \n",
    "- The break statement will end the innermost loop if it is contained within a nested loop that is the loop inside the other loop.\n",
    "- It is used to end the loop that it is enclosed in, such as a do-while, while, switch, and for statement."
   ]
  },
  {
   "cell_type": "code",
   "execution_count": 30,
   "id": "2df82807",
   "metadata": {},
   "outputs": [
    {
     "name": "stdout",
     "output_type": "stream",
     "text": [
      "h\n",
      "e\n",
      "l\n",
      "l\n",
      "o\n",
      " \n",
      "p\n",
      "y\n",
      "Over\n"
     ]
    }
   ],
   "source": [
    "for char in \"hello python\":\n",
    "    if char == \"t\":\n",
    "        break\n",
    "    print(char)\n",
    "\n",
    "print(\"Over\")"
   ]
  },
  {
   "cell_type": "markdown",
   "id": "5e9e67c0",
   "metadata": {},
   "source": [
    "**continue**\n",
    "- The continue statement skips the remaining lines of code, for the current iteration of the loop. \n",
    "- In this case, the loop does not end, it continues with the next iteration."
   ]
  },
  {
   "cell_type": "code",
   "execution_count": 31,
   "id": "0c6005b6",
   "metadata": {},
   "outputs": [
    {
     "name": "stdout",
     "output_type": "stream",
     "text": [
      "h\n",
      "e\n",
      "l\n",
      "l\n",
      "o\n",
      " \n",
      "p\n",
      "y\n",
      "h\n",
      "o\n",
      "n\n",
      "Over\n"
     ]
    }
   ],
   "source": [
    "for char in \"hello python\":\n",
    "    if char == \"t\":\n",
    "        continue\n",
    "    print(char)\n",
    "\n",
    "print(\"Over\")"
   ]
  },
  {
   "cell_type": "markdown",
   "id": "58acee9f",
   "metadata": {},
   "source": [
    "# 11. In a for loop, what is the difference between range(10), range(0, 10), and range(0, 10, 1)?"
   ]
  },
  {
   "cell_type": "markdown",
   "id": "647079d7",
   "metadata": {},
   "source": [
    "The range() function returns a sequence of numbers, starting from 0 by default, and increments by 1 (by default), and stops before a specified number.\n",
    "\n",
    "**Syntax**\n",
    "\n",
    "range(start, stop, step)\n",
    "\n",
    "- **start**\tOptional. An integer number specifying at which position to start. Default is 0\n",
    "- **stop**\tRequired. An integer number specifying at which position to stop (not included).\n",
    "- **step**\tOptional. An integer number specifying the incrementation. Default is 1"
   ]
  },
  {
   "cell_type": "code",
   "execution_count": 35,
   "id": "a9ad6bfe",
   "metadata": {},
   "outputs": [
    {
     "name": "stdout",
     "output_type": "stream",
     "text": [
      "0\n",
      "1\n",
      "2\n",
      "3\n",
      "4\n",
      "5\n",
      "6\n",
      "7\n",
      "8\n",
      "9\n"
     ]
    }
   ],
   "source": [
    "# Create a sequence of numbers from 0 to 9, and print each item in the sequence:\n",
    "for i in range(10):\n",
    "    print(i)  "
   ]
  },
  {
   "cell_type": "code",
   "execution_count": 36,
   "id": "16ce7019",
   "metadata": {},
   "outputs": [
    {
     "name": "stdout",
     "output_type": "stream",
     "text": [
      "0\n",
      "1\n",
      "2\n",
      "3\n",
      "4\n",
      "5\n",
      "6\n",
      "7\n",
      "8\n",
      "9\n"
     ]
    }
   ],
   "source": [
    "# Create a sequence of numbers from 0 to 9\n",
    "for i in range(0,10):\n",
    "    print(i)"
   ]
  },
  {
   "cell_type": "code",
   "execution_count": 37,
   "id": "56679ef7",
   "metadata": {},
   "outputs": [
    {
     "name": "stdout",
     "output_type": "stream",
     "text": [
      "0\n",
      "1\n",
      "2\n",
      "3\n",
      "4\n",
      "5\n",
      "6\n",
      "7\n",
      "8\n",
      "9\n"
     ]
    }
   ],
   "source": [
    "# Create a sequence of numbers from 0 to 10, but increment by 1 :\n",
    "for i in range(0,10,1):\n",
    "    print(i)"
   ]
  },
  {
   "cell_type": "markdown",
   "id": "10ec19c9",
   "metadata": {},
   "source": [
    "# 12. Write a short program that prints the numbers 1 to 10 using a for loop. Then write an equivalent program that prints the numbers 1 to 10 using a while loop."
   ]
  },
  {
   "cell_type": "code",
   "execution_count": 38,
   "id": "aa0cbb54",
   "metadata": {},
   "outputs": [
    {
     "name": "stdout",
     "output_type": "stream",
     "text": [
      "For Loop\n",
      "1\n",
      "2\n",
      "3\n",
      "4\n",
      "5\n",
      "6\n",
      "7\n",
      "8\n",
      "9\n",
      "10\n"
     ]
    }
   ],
   "source": [
    "#Use of For Loop\n",
    "\n",
    "print(\"For Loop\")\n",
    "\n",
    "for i in range(1,11):\n",
    "    print(i)"
   ]
  },
  {
   "cell_type": "code",
   "execution_count": 39,
   "id": "7265f9e3",
   "metadata": {},
   "outputs": [
    {
     "name": "stdout",
     "output_type": "stream",
     "text": [
      "While Loop\n",
      "1\n",
      "2\n",
      "3\n",
      "4\n",
      "5\n",
      "6\n",
      "7\n",
      "8\n",
      "9\n",
      "10\n"
     ]
    }
   ],
   "source": [
    "#Use of While Loop\n",
    "\n",
    "print(\"While Loop\")\n",
    "\n",
    "a = 1\n",
    "while a <= 10:\n",
    "    print(a)\n",
    "    a+=1"
   ]
  },
  {
   "cell_type": "markdown",
   "id": "01afa476",
   "metadata": {},
   "source": [
    "# 13. If you had a function named bacon() inside a module named spam, how would you call it after importing spam?"
   ]
  },
  {
   "cell_type": "markdown",
   "id": "175caf13",
   "metadata": {},
   "source": [
    "- This function can be called with spam. bacon()."
   ]
  },
  {
   "cell_type": "code",
   "execution_count": null,
   "id": "6afb38af",
   "metadata": {},
   "outputs": [],
   "source": []
  },
  {
   "cell_type": "code",
   "execution_count": null,
   "id": "c271abde",
   "metadata": {},
   "outputs": [],
   "source": []
  },
  {
   "cell_type": "code",
   "execution_count": null,
   "id": "c3a07a4e",
   "metadata": {},
   "outputs": [],
   "source": []
  }
 ],
 "metadata": {
  "kernelspec": {
   "display_name": "Python 3 (ipykernel)",
   "language": "python",
   "name": "python3"
  },
  "language_info": {
   "codemirror_mode": {
    "name": "ipython",
    "version": 3
   },
   "file_extension": ".py",
   "mimetype": "text/x-python",
   "name": "python",
   "nbconvert_exporter": "python",
   "pygments_lexer": "ipython3",
   "version": "3.10.9"
  }
 },
 "nbformat": 4,
 "nbformat_minor": 5
}

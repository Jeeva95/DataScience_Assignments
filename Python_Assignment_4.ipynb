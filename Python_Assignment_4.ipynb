{
 "cells": [
  {
   "cell_type": "markdown",
   "id": "b722d935",
   "metadata": {},
   "source": [
    "# 1. What exactly is []?"
   ]
  },
  {
   "cell_type": "markdown",
   "id": "c1293cce",
   "metadata": {},
   "source": [
    "- Index brackets ([]) have many uses in Python. First, they are used to define \"list literals,\" allowing you to declare a list and its contents in your program. Index brackets are also used to write expressions that evaluate to a single item within a list, or a single character in a string. \n",
    "\n",
    "- [] the empty list value, which is a list value that contains no items. This is similar to how '' is the empty string value."
   ]
  },
  {
   "cell_type": "markdown",
   "id": "5b0d2ced",
   "metadata": {},
   "source": [
    "# 2. In a list of values stored in a variable called spam, how would you assign the value &#39;hello&#39; as the third value? (Assume [2, 4, 6, 8, 10] are in spam.)"
   ]
  },
  {
   "cell_type": "code",
   "execution_count": 1,
   "id": "93b8de77",
   "metadata": {},
   "outputs": [
    {
     "data": {
      "text/plain": [
       "[2, 4, 'hello', 8, 10]"
      ]
     },
     "execution_count": 1,
     "metadata": {},
     "output_type": "execute_result"
    }
   ],
   "source": [
    "# solution by changing the value in index 3\n",
    "spam = [2, 4, 6, 8, 10]\n",
    "spam[2] = 'hello' # Notice that the third value in a list is at index 2 because the first index is 0.\n",
    "spam"
   ]
  },
  {
   "cell_type": "markdown",
   "id": "d0f41cd5",
   "metadata": {},
   "source": [
    "Let&#39;s pretend the spam includes the list [&#39;a&#39;, &#39;b&#39;, &#39;c&#39;, &#39;d&#39;] for the next three queries."
   ]
  },
  {
   "cell_type": "markdown",
   "id": "38f85620",
   "metadata": {},
   "source": [
    "# 3. What is the value of spam[int(int(&#39;3&#39; * 2) / 11)]?"
   ]
  },
  {
   "cell_type": "code",
   "execution_count": 3,
   "id": "b9edf139",
   "metadata": {},
   "outputs": [
    {
     "data": {
      "text/plain": [
       "'d'"
      ]
     },
     "execution_count": 3,
     "metadata": {},
     "output_type": "execute_result"
    }
   ],
   "source": [
    "spam = ['a', 'b','c','d']\n",
    "# 'd' (Note that '3' * 2 is the string '33', which is passed to int() before being divided by 11. \n",
    "# This eventually evaluates to 3. Expressions can be used wherever values are used.)\n",
    "spam[int(int('3' * 2) / 11)] "
   ]
  },
  {
   "cell_type": "markdown",
   "id": "bf5fb9dc",
   "metadata": {},
   "source": [
    "# 4. What is the value of spam[-1]?"
   ]
  },
  {
   "cell_type": "code",
   "execution_count": 4,
   "id": "4476a2c6",
   "metadata": {},
   "outputs": [
    {
     "data": {
      "text/plain": [
       "'d'"
      ]
     },
     "execution_count": 4,
     "metadata": {},
     "output_type": "execute_result"
    }
   ],
   "source": [
    "spam = ['a', 'b','c','d']\n",
    "spam[-1] # Negative indexes count from the end."
   ]
  },
  {
   "cell_type": "markdown",
   "id": "93232caa",
   "metadata": {},
   "source": [
    "# 5. What is the value of spam[:2]?"
   ]
  },
  {
   "cell_type": "code",
   "execution_count": 5,
   "id": "8eff93a2",
   "metadata": {},
   "outputs": [
    {
     "data": {
      "text/plain": [
       "['a', 'b']"
      ]
     },
     "execution_count": 5,
     "metadata": {},
     "output_type": "execute_result"
    }
   ],
   "source": [
    "spam[:2]"
   ]
  },
  {
   "cell_type": "markdown",
   "id": "2319a4b5",
   "metadata": {},
   "source": [
    "Let&#39;s pretend bacon has the list [3.14, &#39;cat,&#39; 11, &#39;cat,&#39; True] for the next three questions."
   ]
  },
  {
   "cell_type": "markdown",
   "id": "a877c600",
   "metadata": {},
   "source": [
    "# 6. What is the value of bacon.index(&#39;cat&#39;)?"
   ]
  },
  {
   "cell_type": "code",
   "execution_count": 6,
   "id": "b29e90a3",
   "metadata": {},
   "outputs": [
    {
     "data": {
      "text/plain": [
       "1"
      ]
     },
     "execution_count": 6,
     "metadata": {},
     "output_type": "execute_result"
    }
   ],
   "source": [
    "bacon = [3.14, 'cat', 11, 'cat', True]\n",
    "bacon.index('cat') # it returns the index of first occurrence of 'cat'"
   ]
  },
  {
   "cell_type": "markdown",
   "id": "2ea37166",
   "metadata": {},
   "source": [
    "# 7. How does bacon.append(99) change the look of the list value in bacon?"
   ]
  },
  {
   "cell_type": "code",
   "execution_count": 7,
   "id": "ad180264",
   "metadata": {},
   "outputs": [
    {
     "data": {
      "text/plain": [
       "[3.14, 'cat', 11, 'cat', True, 99]"
      ]
     },
     "execution_count": 7,
     "metadata": {},
     "output_type": "execute_result"
    }
   ],
   "source": [
    "bacon = [3.14, 'cat', 11, 'cat', True]\n",
    "bacon.append(99) # append adds the item at the end of the list\n",
    "bacon"
   ]
  },
  {
   "cell_type": "markdown",
   "id": "601a97cb",
   "metadata": {},
   "source": [
    "# 8. How does bacon.remove(&#39;cat&#39;) change the look of the list in bacon?"
   ]
  },
  {
   "cell_type": "code",
   "execution_count": 8,
   "id": "3f5c0c41",
   "metadata": {},
   "outputs": [
    {
     "data": {
      "text/plain": [
       "[3.14, 11, 'cat', True]"
      ]
     },
     "execution_count": 8,
     "metadata": {},
     "output_type": "execute_result"
    }
   ],
   "source": [
    "bacon = [3.14, 'cat', 11, 'cat', True]\n",
    "bacon.remove('cat') # remove first occurrence of item\n",
    "bacon"
   ]
  },
  {
   "cell_type": "markdown",
   "id": "34a11a7c",
   "metadata": {},
   "source": [
    "# 9. What are the list concatenation and list replication operators?"
   ]
  },
  {
   "cell_type": "markdown",
   "id": "0210f603",
   "metadata": {},
   "source": [
    "**List concatenation**\n",
    "\n",
    "- The '+' operator can be used to concatenate two lists. \n",
    "- It appends one list at the end of the other list and results in a new list as output."
   ]
  },
  {
   "cell_type": "code",
   "execution_count": 10,
   "id": "bc59df1d",
   "metadata": {},
   "outputs": [
    {
     "name": "stdout",
     "output_type": "stream",
     "text": [
      "Concatenated list using + : [1, 4, 5, 6, 5, 3, 5, 7, 2, 5]\n"
     ]
    }
   ],
   "source": [
    "test_list3 = [1, 4, 5, 6, 5]\n",
    "test_list4 = [3, 5, 7, 2, 5]\n",
    " \n",
    "# using + operator to concat\n",
    "test_list3 = test_list3 + test_list4\n",
    " \n",
    "# Printing concatenated list\n",
    "print (\"Concatenated list using + : \"\n",
    "                   + str(test_list3))"
   ]
  },
  {
   "cell_type": "markdown",
   "id": "70fbab35",
   "metadata": {},
   "source": [
    "**List replication**\n",
    "\n",
    "When * appears between a list and an integer, the expression will be evaluated as a new list that consists of several copies of the original list concatenated together. The number of copies is set by the integer."
   ]
  },
  {
   "cell_type": "code",
   "execution_count": 9,
   "id": "63732d53",
   "metadata": {},
   "outputs": [
    {
     "name": "stdout",
     "output_type": "stream",
     "text": [
      "[1, 2, 3, 1, 2, 3, 1, 2, 3, 1, 2, 3]\n"
     ]
    }
   ],
   "source": [
    "number_list = [1, 2, 3]\n",
    "print(number_list * 4)"
   ]
  },
  {
   "cell_type": "markdown",
   "id": "619470d9",
   "metadata": {},
   "source": [
    "# 10. What is difference between the list methods append() and insert()?"
   ]
  },
  {
   "cell_type": "markdown",
   "id": "df9634ed",
   "metadata": {},
   "source": [
    "The difference between the two methods is that \n",
    "- . append() adds an item to the end of a list.\n",
    "- . insert() inserts and item in a specified position in the list."
   ]
  },
  {
   "cell_type": "code",
   "execution_count": 11,
   "id": "a32e3cac",
   "metadata": {},
   "outputs": [
    {
     "name": "stdout",
     "output_type": "stream",
     "text": [
      "['JavaScript', 'Java', ['Python', 'C++']]\n"
     ]
    }
   ],
   "source": [
    "# .append()\n",
    "programming_languages = [\"JavaScript\", \"Java\"]\n",
    "\n",
    "#add two new items to the end of the list\n",
    "programming_languages.append([\"Python\",\"C++\"])\n",
    "\n",
    "print(programming_languages)"
   ]
  },
  {
   "cell_type": "code",
   "execution_count": 12,
   "id": "0c9d110b",
   "metadata": {},
   "outputs": [
    {
     "name": "stdout",
     "output_type": "stream",
     "text": [
      "['JavaScript', 'Python', 'Java', 'C++']\n"
     ]
    }
   ],
   "source": [
    "# .insert()\n",
    "programming_languages = [\"JavaScript\", \"Java\", \"C++\"]\n",
    "\n",
    "programming_languages.insert(1,\"Python\")\n",
    "\n",
    "print(programming_languages)"
   ]
  },
  {
   "cell_type": "markdown",
   "id": "e1764113",
   "metadata": {},
   "source": [
    "# 11. What are the two methods for removing items from a list?"
   ]
  },
  {
   "cell_type": "markdown",
   "id": "e3859eb9",
   "metadata": {},
   "source": [
    "Method 1: Using remove() method\n",
    "\n",
    "The remove() function deletes the given item passed as an argument to it. "
   ]
  },
  {
   "cell_type": "code",
   "execution_count": 13,
   "id": "938b1713",
   "metadata": {},
   "outputs": [
    {
     "name": "stdout",
     "output_type": "stream",
     "text": [
      "Input List after removing {World}:\n",
      " ['Python', 'Codes', 'hello', 'everyone']\n"
     ]
    }
   ],
   "source": [
    "# input list\n",
    "inputList = ['World', 'Python', 'Codes', 'hello', 'everyone']\n",
    "\n",
    "# Removing the 'TutorialsPoint' from the list using the remove() method\n",
    "inputList.remove(\"World\")\n",
    "\n",
    "# Printing the result list\n",
    "print(\"Input List after removing {World}:\\n\", inputList)"
   ]
  },
  {
   "cell_type": "markdown",
   "id": "40f1d618",
   "metadata": {},
   "source": [
    "Method 2: Using del Keyword\n",
    "\n",
    "The del statement is not a List function. The del statement can be used to delete items from the list by passing the index of the item (element) to be deleted"
   ]
  },
  {
   "cell_type": "code",
   "execution_count": 14,
   "id": "ea4c9906",
   "metadata": {},
   "outputs": [
    {
     "name": "stdout",
     "output_type": "stream",
     "text": [
      "Input List after removing the item present at the 2nd index{Codes}:\n",
      " ['World', 'Python', 'hello', 'everyone']\n"
     ]
    }
   ],
   "source": [
    "# input list\n",
    "inputList = ['World', 'Python', 'Codes', 'hello', 'everyone']\n",
    "\n",
    "# Removing the item present at the 2nd index(Codes) from the list\n",
    "del inputList[2]\n",
    "\n",
    "# Printing the result list\n",
    "print(\"Input List after removing the item present at the 2nd index{Codes}:\\n\", inputList)"
   ]
  },
  {
   "cell_type": "markdown",
   "id": "6e96511d",
   "metadata": {},
   "source": [
    "# 12. Describe how list values and string values are identical."
   ]
  },
  {
   "cell_type": "markdown",
   "id": "3d84f5ac",
   "metadata": {},
   "source": [
    "- Both lists and strings can be passed to len().\n",
    "- Have indexes and slices.\n",
    "- Can be used in for loops.\n",
    "- Can be concatenated or replicated.\n",
    "- Can be used with the in and not in operators."
   ]
  },
  {
   "cell_type": "markdown",
   "id": "492f2f56",
   "metadata": {},
   "source": [
    "# 13. What&#39;s the difference between tuples and lists?"
   ]
  },
  {
   "cell_type": "markdown",
   "id": "398bb724",
   "metadata": {},
   "source": [
    "**List**\n",
    "\n",
    "- List are mutable.\n",
    "- The implication of iterations is Time-consuming.\n",
    "- The list is better for performing operations, such as insertion and deletion.\n",
    "- Lists consume more memory.\n",
    "- Lists have several built-in methods.\n",
    "- Unexpected changes and errors are more likely to occur."
   ]
  },
  {
   "cell_type": "markdown",
   "id": "b00d325b",
   "metadata": {},
   "source": [
    "**Tuple**\n",
    "\n",
    "- Tuple are imutable.\n",
    "- The implication of iterations is comparatively Faster.\n",
    "- A Tuple data type is appropriate for accessing the elements.\n",
    "- Tuple consumes less memory as compared to the list.\n",
    "- Tuple consumes less memory as compared to the list.\n",
    "- Tuple does not have many built-in methods.\n",
    "- In a tuple, it is hard to take place."
   ]
  },
  {
   "cell_type": "markdown",
   "id": "315043f1",
   "metadata": {},
   "source": [
    "# 14. How do you type a tuple value that only contains the integer 42?"
   ]
  },
  {
   "cell_type": "markdown",
   "id": "24cceded",
   "metadata": {},
   "source": [
    "(42,) (The trailing comma is mandatory.)"
   ]
  },
  {
   "cell_type": "markdown",
   "id": "22baeede",
   "metadata": {},
   "source": [
    "# 15. How do you get a list value&#39;s tuple form? How do you get a tuple value&#39;s list form?"
   ]
  },
  {
   "cell_type": "markdown",
   "id": "24731558",
   "metadata": {},
   "source": [
    "- An iterable can be passed as an input to the tuple () function, which will convert it to a tuple object.\n",
    "- If you want to convert a Python list to a tuple, you can use the tuple() function to pass the full list as an argument, and it will return the tuple data type as an output."
   ]
  },
  {
   "cell_type": "code",
   "execution_count": 15,
   "id": "549a9ec7",
   "metadata": {},
   "outputs": [
    {
     "name": "stdout",
     "output_type": "stream",
     "text": [
      "('Meredith', 'Kristen', 'Wright', 'Franklin')\n",
      "<class 'tuple'>\n"
     ]
    }
   ],
   "source": [
    "list_names=['Meredith', 'Kristen', 'Wright', 'Franklin']\n",
    "tuple_names= tuple(list_names)\n",
    "print(tuple_names)\n",
    "print(type(tuple_names))"
   ]
  },
  {
   "cell_type": "markdown",
   "id": "78ecf41e",
   "metadata": {},
   "source": [
    "- To convert a tuple into list in Python, call list() builtin function and pass the tuple as argument to the function. \n",
    "- list() returns a new list generated from the items of the given tuple."
   ]
  },
  {
   "cell_type": "code",
   "execution_count": 17,
   "id": "2c1c78fe",
   "metadata": {},
   "outputs": [
    {
     "name": "stdout",
     "output_type": "stream",
     "text": [
      "<class 'list'>\n",
      "[True, 28, 'Tiger']\n"
     ]
    }
   ],
   "source": [
    "#initialize tuple\n",
    "aTuple = (True, 28, 'Tiger')\n",
    " \n",
    "#tuple to list\n",
    "aList = list(aTuple)\n",
    " \n",
    "#print list\n",
    "print(type(aList))\n",
    "print(aList)"
   ]
  },
  {
   "cell_type": "markdown",
   "id": "80705a6d",
   "metadata": {},
   "source": [
    "# 16. Variables that &quot;contain&quot; list values are not necessarily lists themselves. Instead, what do they contain?"
   ]
  },
  {
   "cell_type": "markdown",
   "id": "0041faa9",
   "metadata": {},
   "source": [
    "A list is a value that contains multiple values in an ordered sequence. The term list value refers to the list itself (which is a value that can be stored in a variable or passed to a function like any other value), not the values inside the list value. They contain references to list values."
   ]
  },
  {
   "cell_type": "markdown",
   "id": "c6aa30d2",
   "metadata": {},
   "source": [
    "# 17. How do you distinguish between copy.copy() and copy.deepcopy()?"
   ]
  },
  {
   "cell_type": "markdown",
   "id": "5876831c",
   "metadata": {},
   "source": [
    "**copy()**\n",
    "\n",
    "Copy() in Python Programming is a method that is used on objects to create copies of them. It returns a shallow copy of the list. \n",
    "\n",
    "**Shallow copy**\n",
    "\n",
    "In the case of shallow copy if we make a change to the copy of the original object, will reflect in the original object as well."
   ]
  },
  {
   "cell_type": "markdown",
   "id": "51b1f782",
   "metadata": {},
   "source": [
    "**Deep copy**\n",
    "\n",
    "Deep Copy - Deep copy is the opposite of a shallow copy. In this case, the deep copy process is recursive. Like in shallow copy, we create a new collection object and recursively add copies of the child objects from the original. This way, we can produce a fully independent clone of the original object. Again, the crux is that if we make changes to the copy, they will not reflect in the original."
   ]
  },
  {
   "cell_type": "code",
   "execution_count": 19,
   "id": "81c79a35",
   "metadata": {},
   "outputs": [
    {
     "name": "stdout",
     "output_type": "stream",
     "text": [
      "Original list:  [1, 2, [3, 4, 5], 6]\n",
      "Shallow copied list:  [1, 2, [3, 4, 5], 6]\n",
      "Modified deep copy list:  [1, 2, [3, 9, 5], 6]\n",
      "Original list after modification to deep copy:  [1, 2, [3, 4, 5], 6]\n",
      "Modified shallow copy list:  [1, 2, [3, 6, 5], 6]\n",
      "Original list after modification to shallow copy:  [1, 2, [3, 6, 5], 6]\n"
     ]
    }
   ],
   "source": [
    "import copy\n",
    "\n",
    "list1 = [1, 2, [3, 4, 5], 6]\n",
    "\n",
    "shallow_copy_list = copy.copy(list1)  # shallow copy\n",
    "list2 = list1   # also a shallow copy\n",
    "deep_copy_list = copy.deepcopy(list1)  # deep copy\n",
    "\n",
    "print(\"Original list: \", list1)\n",
    "print(\"Shallow copied list: \", list2)\n",
    "\n",
    "# Making modifications to the deep copy\n",
    "deep_copy_list[2][1] = 9\n",
    "print(\"Modified deep copy list: \", deep_copy_list)\n",
    "print(\"Original list after modification to deep copy: \", list1)\n",
    "\n",
    "# Making modifications to shallow copy\n",
    "shallow_copy_list[2][1] = 6\n",
    "print(\"Modified shallow copy list: \", shallow_copy_list)\n",
    "print(\"Original list after modification to shallow copy: \", list1)"
   ]
  }
 ],
 "metadata": {
  "kernelspec": {
   "display_name": "Python 3 (ipykernel)",
   "language": "python",
   "name": "python3"
  },
  "language_info": {
   "codemirror_mode": {
    "name": "ipython",
    "version": 3
   },
   "file_extension": ".py",
   "mimetype": "text/x-python",
   "name": "python",
   "nbconvert_exporter": "python",
   "pygments_lexer": "ipython3",
   "version": "3.10.9"
  }
 },
 "nbformat": 4,
 "nbformat_minor": 5
}

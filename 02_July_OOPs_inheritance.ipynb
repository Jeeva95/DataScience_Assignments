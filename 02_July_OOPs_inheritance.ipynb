{
 "cells": [
  {
   "cell_type": "markdown",
   "id": "cec7177b",
   "metadata": {},
   "source": [
    "# 1. Explain what inheritance is in object-oriented programming and why it is used."
   ]
  },
  {
   "cell_type": "markdown",
   "id": "67ad9885",
   "metadata": {},
   "source": [
    "Inheritance is the concept in OOPs in which one class inherits the attributes and methods of another class. The class whose properties and methods are inherited is known as the **Parent class**. And the class that inherits the properties from the parent class is the **Child class**.\n",
    "\n",
    "Inheritance provides code reusability, abstraction, etc. Because of inheritance, we can even inherit abstract classes, classes with constructors, etc. For example – Beagle, Pitbull, etc., are different breeds of dogs, so they all have inherited the properties of class dog.\n",
    "\n",
    "**Benefits of inheritance are:**\n",
    "\n",
    "Inheritance allows you to inherit the properties of a class, i.e., base class to another, i.e., derived class. The benefits of Inheritance in Python are as follows:\n",
    "\n",
    "- It represents real-world relationships well.\n",
    "- It provides the reusability of a code. We don’t have to write the same code again and again. Also, it allows us to add more features to a class without modifying it.\n",
    "- It is transitive in nature, which means that if class B inherits from another class A, then all the subclasses of B would automatically inherit from class A.\n",
    "- Inheritance offers a simple, understandable model structure. \n",
    "- Less development and maintenance expenses result from an inheritance. "
   ]
  },
  {
   "cell_type": "code",
   "execution_count": 1,
   "id": "3846366e",
   "metadata": {},
   "outputs": [
    {
     "name": "stdout",
     "output_type": "stream",
     "text": [
      "Harry False\n",
      "Marry True\n"
     ]
    }
   ],
   "source": [
    "class Person(object):\n",
    " \n",
    "    # Constructor\n",
    "    def __init__(self, name):\n",
    "        self.name = name\n",
    " \n",
    "    # To get name\n",
    "    def getName(self):\n",
    "        return self.name\n",
    " \n",
    "    # To check if this person is an employee\n",
    "    def isEmployee(self):\n",
    "        return False\n",
    " \n",
    " \n",
    "# Inherited or Subclass (Note Person in bracket)\n",
    "class Employee(Person):\n",
    " \n",
    "    # Here we return true\n",
    "    def isEmployee(self):\n",
    "        return True\n",
    " \n",
    " \n",
    "# Driver code\n",
    "emp = Person(\"Harry\")  # An Object of Person\n",
    "print(emp.getName(), emp.isEmployee())\n",
    " \n",
    "emp = Employee(\"Marry\")  # An Object of Employee\n",
    "print(emp.getName(), emp.isEmployee())"
   ]
  },
  {
   "cell_type": "markdown",
   "id": "e452dc65",
   "metadata": {},
   "source": [
    "# 2. Discuss the concept of single inheritance and multiple inheritance, highlighting their differences and advantages."
   ]
  },
  {
   "cell_type": "markdown",
   "id": "dd3503af",
   "metadata": {},
   "source": [
    "**Single Inheritance:**\n",
    "\n",
    "In python single inheritance, a derived class is derived only from a single parent class and allows the class to derive behaviour and properties from a single base class. This enables code reusability of a parent class, and adding new features to a class makes code more readable, elegant and less redundant. And thus, single inheritance is much more safer than multiple inheritances if it’s done in the right way and enables derived class to call parent class method and also to override parent classe’s existing methods."
   ]
  },
  {
   "cell_type": "code",
   "execution_count": 2,
   "id": "87a35fc0",
   "metadata": {},
   "outputs": [
    {
     "name": "stdout",
     "output_type": "stream",
     "text": [
      "(600445, 'Employee1')  Valid Employee \n",
      "(198754, 'Employee2')  Invalid Employee \n",
      " END OF PROGRAM \n"
     ]
    }
   ],
   "source": [
    "# Single inheritance in python\n",
    "#Base class\n",
    "class Parent_class(object): \n",
    "       \n",
    "    # Constructor \n",
    "    def __init__(self, name, id): \n",
    "        self.name = name \n",
    "        self.id = id\n",
    "   \n",
    "    # To fetch employee details \n",
    "    def Employee_Details(self): \n",
    "        return self.id , self.name\n",
    "   \n",
    "    # To check if this  is a valid employee \n",
    "    def Employee_check(self): \n",
    "        if self.id > 500000:\n",
    "           return \" Valid Employee \"\n",
    "        else:\n",
    "           return \" Invalid Employee \"\n",
    "   \n",
    "   \n",
    "# derived class or the sub class\n",
    "class Child_class(Parent_class): \n",
    "    \n",
    "    def End(self):\n",
    "        print( \" END OF PROGRAM \" ) \n",
    "      \n",
    "# Driver code \n",
    "Employee1 = Parent_class( \"Employee1\" , 600445)  # parent class object\n",
    "print( Employee1.Employee_Details() , Employee1.Employee_check() ) \n",
    "Employee2 = Child_class( \"Employee2\" , 198754) # child class object \n",
    "print( Employee2.Employee_Details() , Employee2.Employee_check() ) \n",
    "Employee2.End()"
   ]
  },
  {
   "cell_type": "markdown",
   "id": "bbc97fdf",
   "metadata": {},
   "source": [
    "**Multiple Inheritance:**\n",
    "\n",
    "When a class is derived from more than one base class, i.e. this child class is derived from multiple classes, it is called multiple Inheritance. The derived class inherits all the features of the base case."
   ]
  },
  {
   "cell_type": "code",
   "execution_count": 3,
   "id": "8aea3791",
   "metadata": {},
   "outputs": [
    {
     "name": "stdout",
     "output_type": "stream",
     "text": [
      "Mammals can give direct birth.\n",
      "Winged animals can flap.\n"
     ]
    }
   ],
   "source": [
    "class Mammal:\n",
    "    def mammal_info(self):\n",
    "        print(\"Mammals can give direct birth.\")\n",
    "\n",
    "class WingedAnimal:\n",
    "    def winged_animal_info(self):\n",
    "        print(\"Winged animals can flap.\")\n",
    "\n",
    "class Bat(Mammal, WingedAnimal):\n",
    "    pass\n",
    "\n",
    "# create an object of Bat class\n",
    "b1 = Bat()\n",
    "\n",
    "b1.mammal_info()\n",
    "b1.winged_animal_info()"
   ]
  },
  {
   "cell_type": "markdown",
   "id": "fecc8aba",
   "metadata": {},
   "source": [
    "# 3. Explain the terms \"base class\" and \"derived class\" in the context of inheritance."
   ]
  },
  {
   "cell_type": "markdown",
   "id": "b909b3c7",
   "metadata": {},
   "source": [
    "**Parent class** is the class being inherited from, also called base class. A parent class is a class whose properties are inherited by the child class.\n",
    "\n",
    "**Child class** is the class that inherits from another class, also called derived class. A child class is a class that drives the properties from its parent class."
   ]
  },
  {
   "cell_type": "markdown",
   "id": "da4fa812",
   "metadata": {},
   "source": [
    "##Here's the syntax of the inheritance in Python,\n",
    "\n",
    "#define a superclass\n",
    "class Super_class:\n",
    "    # attributes and method definition\n",
    "\n",
    "#inheritance\n",
    "class Sub_class(super_class):\n",
    "    #attributes and method of super_class\n",
    "    #attributes and method of sub_class\n",
    "    \n",
    "super_class = Super_class()\n",
    "sub_class = Sub_class()"
   ]
  },
  {
   "cell_type": "markdown",
   "id": "ad447946",
   "metadata": {},
   "source": [
    "# 4. What is the significance of the \"protected\" access modifier in inheritance? How does it differ from \"private\" and \"public\" modifiers?"
   ]
  },
  {
   "cell_type": "markdown",
   "id": "d4697890",
   "metadata": {},
   "source": [
    "The members of a class that are declared protected are only accessible to a class derived from it. Data members of a class are declared protected by adding a single underscore '_' symbol before the data member of that class.\n",
    "\n",
    "Protected variables and methods are accessible within the specific class environment and can also be accessed by the sub-classes. We can also say that it allows the resources of the parent class to be inherited by the child class.\n",
    "Any variables or methods prefixed with a single underscore (_) in a class are protected and can be accessed within the specific class environment. The protected variables/methods can be accessed inside the sub-classes of the parent class."
   ]
  },
  {
   "cell_type": "code",
   "execution_count": 23,
   "id": "c5793b18",
   "metadata": {},
   "outputs": [
    {
     "name": "stdout",
     "output_type": "stream",
     "text": [
      "Name:  R2J\n",
      "Roll:  1706256\n",
      "Branch:  Information Technology\n"
     ]
    }
   ],
   "source": [
    "# program to illustrate protected access modifier in a class\n",
    " \n",
    "# super class\n",
    "class Student:\n",
    "    \n",
    "    _name = None\n",
    "    _roll = None\n",
    "    _branch = None\n",
    "    \n",
    "    # constructor\n",
    "    def __init__(self, name, roll, branch) :\n",
    "        \n",
    "        self._name = name\n",
    "        self._roll = roll\n",
    "        self._branch = branch\n",
    "\n",
    "    def _displayRollAndBranch(self) :\n",
    "        \n",
    "        # accessing protected data members\n",
    "        print('Roll: ', self._roll)\n",
    "        print('Branch: ', self._branch)\n",
    "        \n",
    "# derived class\n",
    "class Python(Student):\n",
    "    \n",
    "    # constructor\n",
    "    def __init__(self, name, roll, branch) :\n",
    "        Student.__init__(self, name, roll, branch)\n",
    "        \n",
    "        \n",
    "    # public member fuction \n",
    "    def DisplayDetails(self) :\n",
    "        \n",
    "        # accessing protected data members of super class\n",
    "        print('Name: ', self._name)\n",
    "        \n",
    "        # accessing protected member function of super class\n",
    "        self._displayRollAndBranch()\n",
    "        \n",
    "# creating objects of the derived class\n",
    "\n",
    "obj = Python(\"R2J\", 1706256, \"Information Technology\")\n",
    "\n",
    "# calling public member functions of the class\n",
    "obj.DisplayDetails()    "
   ]
  },
  {
   "cell_type": "markdown",
   "id": "1e26f23d",
   "metadata": {},
   "source": [
    "# 5. What is the purpose of the \"super\" keyword in inheritance? Provide an example."
   ]
  },
  {
   "cell_type": "markdown",
   "id": "bb1ff20f",
   "metadata": {},
   "source": [
    "In Python, the super() function is used to refer to the parent class or superclass. It allows you to call methods defined in the superclass from the subclass, enabling you to extend and customize the functionality inherited from the parent class.\n",
    "\n",
    "The super() function has two major use cases:\n",
    "\n",
    "- To avoid the usage of the super (parent) class explicitly.\n",
    "- To enable multiple inheritances."
   ]
  },
  {
   "cell_type": "code",
   "execution_count": 9,
   "id": "9ad553fb",
   "metadata": {},
   "outputs": [
    {
     "name": "stdout",
     "output_type": "stream",
     "text": [
      "I can eat\n",
      "I like to eat bones\n"
     ]
    }
   ],
   "source": [
    "class Animal:\n",
    "\n",
    "    name = \"\"\n",
    "    \n",
    "    def eat(self):\n",
    "        print(\"I can eat\")\n",
    "\n",
    "# inherit from Animal\n",
    "class Dog(Animal):\n",
    "    \n",
    "    # override eat() method\n",
    "    def eat(self):\n",
    "        \n",
    "        # call the eat() method of the superclass using super()\n",
    "        super().eat()\n",
    "        \n",
    "        print(\"I like to eat bones\")\n",
    "\n",
    "# create an object of the subclass\n",
    "labrador = Dog()\n",
    "\n",
    "labrador.eat()"
   ]
  },
  {
   "cell_type": "markdown",
   "id": "637c523d",
   "metadata": {},
   "source": [
    "# 6. Create a base class called \"Vehicle\" with attributes like \"make\", \"model\", and \"year\". Then, create a derived class called \"Car\" that inherits from \"Vehicle\" and adds an attribute called \"fuel_type\". Implement appropriate methods in both classes."
   ]
  },
  {
   "cell_type": "code",
   "execution_count": 5,
   "id": "589b03ff",
   "metadata": {},
   "outputs": [
    {
     "name": "stdout",
     "output_type": "stream",
     "text": [
      "Nissan Altima 2023\n",
      "The Nissan has the fuel type Petrol\n"
     ]
    }
   ],
   "source": [
    "class Vehicle :\n",
    "    \n",
    "    def __init__(self, make, model, year) :\n",
    "        \n",
    "        self.make = make\n",
    "        self.model = model\n",
    "        self.year = year\n",
    "        \n",
    "    def display(self) :\n",
    "        \n",
    "        print(self.make, self.model, self.year)\n",
    "        \n",
    "class Car(Vehicle) :\n",
    "    \n",
    "    def __init__(self, make, model, year, fuel_type) :\n",
    "        \n",
    "        self.fuel_type = fuel_type\n",
    "        Vehicle.__init__(self, make, model, year)\n",
    "        \n",
    "    def display_fuel_type(self) :\n",
    "        \n",
    "        print('The', self.make, 'has the fuel type', self.fuel_type)\n",
    "\n",
    "vehicle_1 = Car('Nissan', 'Altima', 2023, 'Petrol')\n",
    "vehicle_1.display()\n",
    "vehicle_1.display_fuel_type()"
   ]
  },
  {
   "cell_type": "markdown",
   "id": "97d9df45",
   "metadata": {},
   "source": [
    "# 7. Create a base class called \"Employee\" with attributes like \"name\" and \"salary.\" Derive two classes, \"Manager\" and \"Developer,\" from \"Employee.\" Add an additional attribute called \"department\" for the \"Manager\" class and \"programming_language\" for the \"Developer\" class."
   ]
  },
  {
   "cell_type": "code",
   "execution_count": 7,
   "id": "d6b4fe6c",
   "metadata": {},
   "outputs": [
    {
     "name": "stdout",
     "output_type": "stream",
     "text": [
      "Harry 12000 HR\n",
      "Marry 14000 Python\n"
     ]
    }
   ],
   "source": [
    "class Employee :\n",
    "    \n",
    "    def __init__(self, name, salary) :\n",
    "        self.name = name\n",
    "        self.salary = salary\n",
    "        \n",
    "    def display(self) :\n",
    "        print(self.name, self.salary)\n",
    "        \n",
    "class Manager(Employee) :\n",
    "    \n",
    "    def __init__(self, name, salary, department) :\n",
    "        self.department = department\n",
    "        Employee.__init__(self, name, salary)\n",
    "        \n",
    "    def display_manager_details(self) :\n",
    "        print(self.name, self.salary, self.department)\n",
    "        \n",
    "class Developer(Employee) :\n",
    "    \n",
    "    def __init__(self, name, salary, programming_language) :\n",
    "        self.programming_language = programming_language\n",
    "        Employee.__init__(self, name, salary)\n",
    "        \n",
    "    def display_developer_details(self) :\n",
    "        print(self.name, self.salary, self.programming_language)\n",
    "        \n",
    "employee_1 = Manager('Harry', 12000, 'HR')\n",
    "employee_1.display_manager_details()\n",
    "\n",
    "employee_2 = Developer('Marry', 14000, 'Python')\n",
    "employee_2.display_developer_details()"
   ]
  },
  {
   "cell_type": "markdown",
   "id": "3e690c07",
   "metadata": {},
   "source": [
    "# 8. Design a base class called \"Shape\" with attributes like \"colour\" and \"border_width.\" Create derived classes, \"Rectangle\" and \"Circle,\" that inherit from \"Shape\" and add specific attributes like \"length\" and \"width\" for the \"Rectangle\" class and \"radius\" for the \"Circle\" class."
   ]
  },
  {
   "cell_type": "code",
   "execution_count": 13,
   "id": "a6caa3f9",
   "metadata": {},
   "outputs": [
    {
     "name": "stdout",
     "output_type": "stream",
     "text": [
      "Red 23\n",
      "The area of the rectangle is :  6\n",
      "The area of the circle is :  50.26548245743669\n"
     ]
    }
   ],
   "source": [
    "class Shape :\n",
    "    \n",
    "    def __init__(self, color, border_width) :\n",
    "        \n",
    "        self.color = color\n",
    "        self.border_width = border_width\n",
    "        \n",
    "    def display(self) :\n",
    "        print(self.color, self.border_width)\n",
    "        \n",
    "class Rectangle(Shape) :\n",
    "    \n",
    "    def __init__(self, color, border_width, length, width) :\n",
    "        \n",
    "        self.length = length\n",
    "        self.width = width\n",
    "        Shape.__init__(self, color, border_width)\n",
    "        \n",
    "    def display_rectangle_area(self) :\n",
    "        print('The area of the rectangle is : ', self.length*self.width)\n",
    "        \n",
    "class Circle(Shape) :\n",
    "    \n",
    "    def __init__(self, color, border_width, radius) :\n",
    "        self.radius = radius\n",
    "        Shape.__init__(self, color, border_width)\n",
    "        \n",
    "    def display_circle_area(self) :\n",
    "        \n",
    "        import math as M\n",
    "        area_circle = M.pi* self.radius * self.radius\n",
    "        print('The area of the circle is : ', area_circle)\n",
    "        \n",
    "shape_1 = Shape('Red', 23)\n",
    "shape_1.display()\n",
    "\n",
    "rectangle_1 = Rectangle('Yellow', 23, 2, 3)\n",
    "rectangle_1.display_rectangle_area( )\n",
    "\n",
    "circle_1 = Circle('Green', 23, 4)\n",
    "circle_1.display_circle_area()"
   ]
  },
  {
   "cell_type": "markdown",
   "id": "95b4e0e6",
   "metadata": {},
   "source": [
    "# 9. Create a base class called \"Device\" with attributes like \"brand\" and \"model.\" Derive two classes, \"Phone\" and \"Tablet,\" from \"Device.\" Add specific attributes like \"screen_size\" for the \"Phone\" class and \"battery_capacity\" for the \"Tablet\" class."
   ]
  },
  {
   "cell_type": "code",
   "execution_count": 15,
   "id": "ff4c21fd",
   "metadata": {},
   "outputs": [
    {
     "name": "stdout",
     "output_type": "stream",
     "text": [
      "Samsung Galaxy S23 6.6\n",
      "Honor X8 8000\n"
     ]
    }
   ],
   "source": [
    "class Device :\n",
    "    \n",
    "    def __init__(self, brand, model) :\n",
    "        \n",
    "        self.brand = brand\n",
    "        self.model = model\n",
    "        \n",
    "    def display(self) :\n",
    "        print(self.brand, self.model)\n",
    "        \n",
    "class Phone(Device):\n",
    "    \n",
    "    def __init__(self, brand, model, screen_size) :\n",
    "        self.screen_size = screen_size\n",
    "        Device.__init__(self, brand, model)\n",
    "        \n",
    "    def display_phone(self) :\n",
    "        print(self.brand, self.model, self.screen_size)\n",
    "        \n",
    "class Tablet(Device) :\n",
    "    \n",
    "    def __init__(self, brand, model, battery_capacity) :\n",
    "        self.battery_capacity = battery_capacity\n",
    "        Device.__init__(self, brand, model)\n",
    "        \n",
    "    def display_tablet(self) :\n",
    "        print(self.brand, self.model, self.battery_capacity)\n",
    "\n",
    "phone_1 = Phone('Samsung', 'Galaxy S23', 6.6)\n",
    "phone_1.display_phone()\n",
    "\n",
    "tablet_1 = Tablet('Honor', 'X8', 8000)\n",
    "tablet_1.display_tablet()"
   ]
  },
  {
   "cell_type": "markdown",
   "id": "4b0d36ae",
   "metadata": {},
   "source": [
    "# 10. Create a base class called \"BankAccount\" with attributes like \"account_number\" and \"balance.\" Derive two classes, \"SavingsAccount\" and \"CheckingAccount,\" from \"BankAccount.\" Add specific methods like \"calculate_interest\" for the \"SavingsAccount\" class and \"deduct_fees\" for the \"CheckingAccount\" class."
   ]
  },
  {
   "cell_type": "code",
   "execution_count": 24,
   "id": "95574232",
   "metadata": {},
   "outputs": [
    {
     "name": "stdout",
     "output_type": "stream",
     "text": [
      "Saving account balance :  10002\n",
      "Saving account balance :  4500\n"
     ]
    }
   ],
   "source": [
    "class BankAccount :\n",
    "    \n",
    "    def __init__(self, account_number, balance) :\n",
    "        \n",
    "        self.account_number = account_number\n",
    "        self.balance = balance\n",
    "        \n",
    "    def display(self) :\n",
    "        print(self.account_number, self.balance)\n",
    "        \n",
    "class SavingsAccount(BankAccount) :\n",
    "    \n",
    "    def calculate_interest(self, interest_rate) :\n",
    "        interest = (self.balance * interest_rate)/100\n",
    "        self.balance += interest_rate\n",
    "        \n",
    "class CheckingAccount(BankAccount) :\n",
    "    \n",
    "    def deduct_fee(self, fee_amount) :\n",
    "        \n",
    "        if self.balance >= fee_amount :\n",
    "            self.balance -= fee_amount\n",
    "        else :\n",
    "            print('Insuffient balance to deduct fee')\n",
    "            \n",
    "savings_account = SavingsAccount(1267436627, 10000)\n",
    "savings_account.calculate_interest(2) # calculating interest at 2%\n",
    "print('Saving account balance : ', savings_account.balance)\n",
    "\n",
    "checking_account = CheckingAccount(34572827453, 5000)\n",
    "checking_account.deduct_fee(500)\n",
    "print('Saving account balance : ', checking_account.balance)    "
   ]
  }
 ],
 "metadata": {
  "kernelspec": {
   "display_name": "Python 3 (ipykernel)",
   "language": "python",
   "name": "python3"
  },
  "language_info": {
   "codemirror_mode": {
    "name": "ipython",
    "version": 3
   },
   "file_extension": ".py",
   "mimetype": "text/x-python",
   "name": "python",
   "nbconvert_exporter": "python",
   "pygments_lexer": "ipython3",
   "version": "3.10.9"
  }
 },
 "nbformat": 4,
 "nbformat_minor": 5
}

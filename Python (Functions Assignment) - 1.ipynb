{
 "cells": [
  {
   "cell_type": "markdown",
   "id": "686c49a6",
   "metadata": {},
   "source": [
    "# 1. In Python, what is the difference between a built-in function and a user-defined function? Provide an example of each."
   ]
  },
  {
   "cell_type": "markdown",
   "id": "03c3d72e",
   "metadata": {},
   "source": [
    "**Python Built-in Functions**\n",
    "\n",
    "The Python built-in functions are defined as the functions whose functionality is pre-defined in Python. The python interpreter has several functions that are always present for use. These functions are known as Built-in Functions."
   ]
  },
  {
   "cell_type": "code",
   "execution_count": 2,
   "id": "9ed30397",
   "metadata": {},
   "outputs": [
    {
     "name": "stdout",
     "output_type": "stream",
     "text": [
      "7\n",
      "17\n"
     ]
    }
   ],
   "source": [
    "## Python sum() Function Example\n",
    "s = sum([1, 2,4 ])  \n",
    "print(s)  \n",
    "  \n",
    "s = sum([1, 2, 4], 10)  \n",
    "print(s)  "
   ]
  },
  {
   "cell_type": "markdown",
   "id": "0a8e5517",
   "metadata": {},
   "source": [
    "**Python User-defined functions**\n",
    "\n",
    "All the functions that are written by any of us come under the category of user-defined functions. Below are the steps for writing user-defined functions in Python.\n",
    "\n",
    "- In Python, a def keyword is used to declare user-defined functions. \n",
    "\n",
    "- An indented block of statements follows the function name and arguments which contains the body of the function. \n",
    "\n",
    "**Syntax:**\n",
    "\n",
    "def function_name():\n",
    "\n",
    "    statements\n",
    "    \n",
    "    .\n",
    "    ."
   ]
  },
  {
   "cell_type": "code",
   "execution_count": 4,
   "id": "22320013",
   "metadata": {},
   "outputs": [
    {
     "name": "stdout",
     "output_type": "stream",
     "text": [
      "The sum is 11\n"
     ]
    }
   ],
   "source": [
    "# Program to illustrate\n",
    "# the use of user-defined functions\n",
    "\n",
    "def add_numbers(x,y):\n",
    "   sum = x + y\n",
    "   return sum\n",
    "\n",
    "num1 = 5\n",
    "num2 = 6\n",
    "\n",
    "print(\"The sum is\", add_numbers(num1, num2))"
   ]
  },
  {
   "cell_type": "markdown",
   "id": "aab54ced",
   "metadata": {},
   "source": [
    "# 2. How can you pass arguments to a function in Python? Explain the difference between positional arguments and keyword arguments."
   ]
  },
  {
   "cell_type": "markdown",
   "id": "7718572d",
   "metadata": {},
   "source": [
    "**1. How can you pass arguments to a function in Python?**\n",
    "\n",
    "**Arguments**\n",
    "\n",
    "Information can be passed into functions as arguments.\n",
    "\n",
    "Arguments are specified after the function name, inside the parentheses. You can add as many arguments as you want, just separate them with a comma.\n",
    "\n",
    "We pass arguments in a function, we can pass no arguments at all, single arguments or multiple arguments to a function and can call the function multiple times."
   ]
  },
  {
   "cell_type": "code",
   "execution_count": 6,
   "id": "68118fe3",
   "metadata": {},
   "outputs": [
    {
     "name": "stdout",
     "output_type": "stream",
     "text": [
      "Python programming\n"
     ]
    }
   ],
   "source": [
    "# no argument is passed\n",
    " \n",
    "# function definition\n",
    "def displayMessage():\n",
    "      print(\"Python programming\")\n",
    " \n",
    "# function call\n",
    "displayMessage()"
   ]
  },
  {
   "cell_type": "code",
   "execution_count": 7,
   "id": "cbd8a80d",
   "metadata": {},
   "outputs": [
    {
     "name": "stdout",
     "output_type": "stream",
     "text": [
      "Hello R2J !\n"
     ]
    }
   ],
   "source": [
    "# single argument is passed\n",
    " \n",
    "# function definition\n",
    "def displayMessage(msg):\n",
    "       print(\"Hello \"+msg+\" !\")\n",
    " \n",
    "msg = \"R2J\"\n",
    " \n",
    "# function call\n",
    "displayMessage(msg)"
   ]
  },
  {
   "cell_type": "code",
   "execution_count": 9,
   "id": "06610b03",
   "metadata": {},
   "outputs": [
    {
     "name": "stdout",
     "output_type": "stream",
     "text": [
      "Python 4 Python\n"
     ]
    }
   ],
   "source": [
    "# multiple arguments are passed\n",
    " \n",
    "# function definition\n",
    "def displayMessage(argument1, argument2, argument3):\n",
    "          print(argument1+\" \"+argument2+\" \"+argument3)\n",
    " \n",
    "# function call\n",
    "displayMessage(\"Python\", \"4\", \"Python\")"
   ]
  },
  {
   "cell_type": "markdown",
   "id": "3057ef43",
   "metadata": {},
   "source": [
    "**2. Explain the difference between positional arguments and keyword arguments.**\n",
    "\n",
    "**Types of arguments**\n",
    "\n",
    "- Keyword-only argument\n",
    "\n",
    "- Positional-only argument\n",
    "\n",
    "**Keyword-Only Argument**\n",
    "\n",
    "- Parameter Names are used to pass the argument during the function call.\n",
    "- Order of parameter Names can be changed to pass the argument(or values).\n",
    "- Syntax : – FunctionName(paramName = value, ...)"
   ]
  },
  {
   "cell_type": "code",
   "execution_count": 10,
   "id": "a28331fd",
   "metadata": {},
   "outputs": [
    {
     "name": "stdout",
     "output_type": "stream",
     "text": [
      "Hello Mohan\n",
      "You are allowed to vote.\n"
     ]
    }
   ],
   "source": [
    "def check_eligibility(name, age):\n",
    "    print(\"Hello\",name)\n",
    "    if(age<18):\n",
    "        print(\"You are not allowed to vote.\")\n",
    "    else:\n",
    "        print(\"You are allowed to vote.\")\n",
    "\n",
    "check_eligibility(name=\"Mohan\", age=25)"
   ]
  },
  {
   "cell_type": "markdown",
   "id": "c00d2ad6",
   "metadata": {},
   "source": [
    "**Positional-Only Argument**\n",
    "\n",
    "- Arguments are passed in the order of parameters. The order defined in the order function declaration.\n",
    "- Order of values cannot be changed to avoid the unexpected output.\n",
    "- Syntax :-FunctionName(value1, value2, value3,....)"
   ]
  },
  {
   "cell_type": "code",
   "execution_count": 12,
   "id": "ce9af0e2",
   "metadata": {},
   "outputs": [
    {
     "name": "stdout",
     "output_type": "stream",
     "text": [
      "Hello Mohan\n",
      "You are allowed to vote.\n"
     ]
    }
   ],
   "source": [
    "def check_eligibility(name, age):\n",
    "    print(\"Hello\",name)\n",
    "    if(age<18):\n",
    "        print(\"You are not allowed to vote.\")\n",
    "    else:\n",
    "        print(\"You are allowed to vote.\")\n",
    "\n",
    "check_eligibility(\"Mohan\", 25)"
   ]
  },
  {
   "cell_type": "markdown",
   "id": "3e7fcb1e",
   "metadata": {},
   "source": [
    "# 3. What is the purpose of the return statement in a function? Can a function have multiple return statements? Explain with an example."
   ]
  },
  {
   "cell_type": "markdown",
   "id": "f99b23b4",
   "metadata": {},
   "source": [
    "**1. The purpose of the reaturn function**\n",
    "\n",
    "A return statement is used to end the execution of the function call and “returns” the result (value of the expression following the return keyword) to the caller. The statements after the return statements are not executed. If the return statement is without any expression, then the special value None is returned. A return statement is overall used to invoke a function so that the passed statements can be executed.\n",
    "\n",
    "**Note:** Return statement can not be used outside the function.\n",
    "\n",
    "**Syntax:**\n",
    "\n",
    "def fun():\n",
    "\n",
    "    statements\n",
    "    \n",
    "    .\n",
    "    .\n",
    "    return [expression]"
   ]
  },
  {
   "cell_type": "code",
   "execution_count": 13,
   "id": "7e34007d",
   "metadata": {},
   "outputs": [
    {
     "name": "stdout",
     "output_type": "stream",
     "text": [
      "Result of add function is 5\n",
      "\n",
      "Result of is_true function is True\n"
     ]
    }
   ],
   "source": [
    "# Python program to \n",
    "# demonstrate return statement \n",
    " \n",
    "def add(a, b):\n",
    " \n",
    "    # returning sum of a and b\n",
    "    return a + b\n",
    " \n",
    "def is_true(a):\n",
    " \n",
    "    # returning boolean of a\n",
    "    return bool(a)\n",
    " \n",
    "# calling function\n",
    "res = add(2, 3)\n",
    "print(\"Result of add function is {}\".format(res))\n",
    " \n",
    "res = is_true(2<5)\n",
    "print(\"\\nResult of is_true function is {}\".format(res))"
   ]
  },
  {
   "cell_type": "markdown",
   "id": "595426de",
   "metadata": {},
   "source": [
    "**2. Can a function have multiple return statements? Explain with an example.**\n",
    "\n",
    "- Yes, you can have multiple return statements in a function in Python. When a return statement is reached, the function will immediately exit and return the specified value to the caller."
   ]
  },
  {
   "cell_type": "code",
   "execution_count": 14,
   "id": "7612b4a9",
   "metadata": {},
   "outputs": [
    {
     "name": "stdout",
     "output_type": "stream",
     "text": [
      "Positive\n",
      "Negative\n",
      "Zero\n"
     ]
    }
   ],
   "source": [
    "def check_number(number):\n",
    "    if number > 0:\n",
    "        return \"Positive\"\n",
    "    elif number < 0:\n",
    "        return \"Negative\"\n",
    "    else:\n",
    "        return \"Zero\"\n",
    "\n",
    "result = check_number(10)\n",
    "print(result)  # Output: Positive\n",
    "\n",
    "result = check_number(-5)\n",
    "print(result)  # Output: Negative\n",
    "\n",
    "result = check_number(0)\n",
    "print(result)  # Output: Zero"
   ]
  },
  {
   "cell_type": "markdown",
   "id": "a57e9cd5",
   "metadata": {},
   "source": [
    "In this example, the check_number function evaluates the input and has multiple return statements based on the conditions. Depending on the number passed to the function, it returns \"Positive\", \"Negative\", or \"Zero\". Each return statement is triggered based on the input provided when the function is called."
   ]
  },
  {
   "cell_type": "markdown",
   "id": "f1c02f70",
   "metadata": {},
   "source": [
    "# 4. What are lambda functions in Python? How are they different from regular functions? Provide an example where a lambda function can be useful."
   ]
  },
  {
   "cell_type": "markdown",
   "id": "c49bf2b7",
   "metadata": {},
   "source": [
    "**Lambda function**\n",
    "\n",
    "Lambda functions are similar to user-defined functions but without a name. They're commonly referred to as anonymous functions. Lambda functions are efficient whenever you want to create a function that will only contain simple expressions – that is, expressions that are usually a single line of a statement.\n",
    "\n",
    "**Difference Between Lambda functions and def defined function**\n",
    "\n",
    "***With lambda function***\n",
    "\n",
    "- Supports single-line sometimes statements that return some value.\n",
    "- Good for performing short operations/data manipulations.\n",
    "- Using the lambda function can sometime reduce the readability of code.\n",
    "\n",
    "***Without lambda function***\n",
    "\n",
    "- Supports any number of lines inside a function block.\n",
    "- Good for any cases that require multiple lines of code.\n",
    "- We can use comments and function descriptions for easy readability."
   ]
  },
  {
   "cell_type": "code",
   "execution_count": 16,
   "id": "4dcd7a6b",
   "metadata": {},
   "outputs": [
    {
     "name": "stdout",
     "output_type": "stream",
     "text": [
      "Def keyword:  0.16666666666666666\n",
      "Lambda keyword:  0.16666666666666666\n"
     ]
    }
   ],
   "source": [
    "# Python code to show the reciprocal of the given number to highlight the difference between def() and lambda().  \n",
    "def reciprocal( num ):  \n",
    "    return 1 / num  \n",
    "   \n",
    "lambda_reciprocal = lambda num: 1 / num  \n",
    "   \n",
    "# using the function defined by def keyword  \n",
    "print( \"Def keyword: \", reciprocal(6) )  \n",
    "   \n",
    "# using the function defined by lambda keyword  \n",
    "print( \"Lambda keyword: \", lambda_reciprocal(6) )  "
   ]
  },
  {
   "cell_type": "markdown",
   "id": "dbd58db0",
   "metadata": {},
   "source": [
    "# 5. How does the concept of \"scope\" apply to functions in Python? Explain the difference between local scope and global scope."
   ]
  },
  {
   "cell_type": "markdown",
   "id": "ead88c83",
   "metadata": {},
   "source": [
    "**Python scope of variable**\n",
    "\n",
    "The location where we can find a variable and also access it if required is called the scope of a variable.\n",
    "\n",
    "Hence, a variable scope is the region in which we can access a variable as shown in the following example -\n",
    "\n",
    "def multiplication():\n",
    "\n",
    "       product = 7*9\n",
    "   \n",
    "Here, the “product” variable is created inside the function, therefore it can only be accessed within it."
   ]
  },
  {
   "cell_type": "markdown",
   "id": "96ac9b62",
   "metadata": {},
   "source": [
    "**Local Scope:**\n",
    "\n",
    "When a variable is defined within a function, its scope is restricted to the function. It exists as long as the function is running (Source) and is available from the time it is defined until the end of the function. Which implies that neither its value nor even access from outside the function is possible."
   ]
  },
  {
   "cell_type": "code",
   "execution_count": 17,
   "id": "7bf4ffcc",
   "metadata": {},
   "outputs": [
    {
     "name": "stdout",
     "output_type": "stream",
     "text": [
      "The first prime number is:  2\n"
     ]
    },
    {
     "ename": "NameError",
     "evalue": "name 'first_prime_no' is not defined",
     "output_type": "error",
     "traceback": [
      "\u001b[1;31m---------------------------------------------------------------------------\u001b[0m",
      "\u001b[1;31mNameError\u001b[0m                                 Traceback (most recent call last)",
      "Cell \u001b[1;32mIn[17], line 9\u001b[0m\n\u001b[0;32m      7\u001b[0m \u001b[38;5;66;03m# the driver code\u001b[39;00m\n\u001b[0;32m      8\u001b[0m prime_numbers()\n\u001b[1;32m----> 9\u001b[0m \u001b[38;5;28mprint\u001b[39m(\u001b[38;5;124m\"\u001b[39m\u001b[38;5;124mThe first prime number is: \u001b[39m\u001b[38;5;124m\"\u001b[39m, \u001b[43mfirst_prime_no\u001b[49m)\n",
      "\u001b[1;31mNameError\u001b[0m: name 'first_prime_no' is not defined"
     ]
    }
   ],
   "source": [
    "## Following is an example of local scope variable -\n",
    "\n",
    "def prime_numbers():\n",
    "   first_prime_no = 2\n",
    "   print(\"The first prime number is: \", first_prime_no)\n",
    "\n",
    "# the driver code\n",
    "prime_numbers()\n",
    "print(\"The first prime number is: \", first_prime_no)"
   ]
  },
  {
   "cell_type": "markdown",
   "id": "8ba908bd",
   "metadata": {},
   "source": [
    "By using the function \"prime numbers(),\" we were able to print the value of the \"first prime no\" variable. However, it raised a NameError when attempting to read and then print the same variable from outside the function. Because \"first prime no\" is \"local\" to the function and cannot be accessed from outside the function body"
   ]
  },
  {
   "cell_type": "markdown",
   "id": "4637cfde",
   "metadata": {},
   "source": [
    "**Global Scope**\n",
    "\n",
    "Possibly this is the simplest scope to learn . A variable becomes a global variable whenever it is defined outside of any function, and its scope is anywhere within the entire program. This means that it can be used inside any function. Additionally, we can modify the value of a global variable."
   ]
  },
  {
   "cell_type": "code",
   "execution_count": 19,
   "id": "bda60779",
   "metadata": {},
   "outputs": [
    {
     "name": "stdout",
     "output_type": "stream",
     "text": [
      "The name and species of the animal is: Lion Pantheria\n",
      "The name and kingdom of the animal is: Lion Animalia\n"
     ]
    }
   ],
   "source": [
    "## Following is an example of global scope variable -\n",
    "\n",
    "animal = \"Lion\"\n",
    "def animal_species():\n",
    "   pantheria = \"Pantheria\"\n",
    "   print('The name and species of the animal is:',animal, pantheria)\n",
    "def animal_kingdom(name):\n",
    "   print('The name and kingdom of the animal is:',animal, name)\n",
    "animal_species()\n",
    "animal_kingdom(\"Animalia\")"
   ]
  },
  {
   "cell_type": "markdown",
   "id": "236c9705",
   "metadata": {},
   "source": [
    "**Difference:**\n",
    "\n",
    "**Local variables** are confined to the function where they are defined and cannot be accessed from outside that function.\n",
    "\n",
    "**Global variables** are accessible from anywhere within the code, including inside functions, unless they are explicitly declared as local using the global keyword within a function."
   ]
  },
  {
   "cell_type": "markdown",
   "id": "220c50ef",
   "metadata": {},
   "source": [
    "# 6. How can you use the \"return\" statement in a Python function to return multiple values?"
   ]
  },
  {
   "cell_type": "markdown",
   "id": "b2f583bf",
   "metadata": {},
   "source": [
    "In Python, you can return multiple values from a function by using the return statement with multiple variables, data structures like tuples, lists, or dictionaries."
   ]
  },
  {
   "cell_type": "markdown",
   "id": "3ad15221",
   "metadata": {},
   "source": [
    "**1. Returning multiple values using tuple:**\n",
    "\n",
    "We can return multiple values from a function as a tuple. The values should be separated by commas after the return statement."
   ]
  },
  {
   "cell_type": "code",
   "execution_count": 20,
   "id": "45441407",
   "metadata": {},
   "outputs": [
    {
     "name": "stdout",
     "output_type": "stream",
     "text": [
      "34\n",
      "16\n"
     ]
    }
   ],
   "source": [
    "# Example: Returning multiple values using a tuple\n",
    "\n",
    "def add_subtract_two_nums(x, y):\n",
    "    add_result = x + y\n",
    "    sub_result = x - y\n",
    "    return add_result, sub_result\n",
    "result1, result2 = add_subtract_two_nums(25, 9)\n",
    "print(result1)  # Output: 34\n",
    "print(result2)  # Output: 16"
   ]
  },
  {
   "cell_type": "markdown",
   "id": "c821b547",
   "metadata": {},
   "source": [
    "**2. Returning Multiple Values using a list:**\n",
    "\n",
    "Multiple values can also be returned as a list. Simply put the values in square brackets after the return statement."
   ]
  },
  {
   "cell_type": "code",
   "execution_count": 21,
   "id": "d165a7fa",
   "metadata": {},
   "outputs": [
    {
     "name": "stdout",
     "output_type": "stream",
     "text": [
      "[27, 3]\n"
     ]
    }
   ],
   "source": [
    "# Example: Returning multiple values using a list\n",
    "\n",
    "def get_max_min_value(nums):\n",
    "    max_value = max(nums)\n",
    "    min_value = min(nums)\n",
    "    return [max_value, min_value]\n",
    "result_list = get_max_min_value([3, 9, 12, 27, 8])\n",
    "print(result_list)  # Output: [27, 3]"
   ]
  },
  {
   "cell_type": "markdown",
   "id": "c602686b",
   "metadata": {},
   "source": [
    "**3. Returning multiple values using a dictionary:**\n",
    "\n",
    "We can return multiple values as a dictionary by using the return statement along with a dictionary."
   ]
  },
  {
   "cell_type": "code",
   "execution_count": 23,
   "id": "2ba35eee",
   "metadata": {},
   "outputs": [
    {
     "name": "stdout",
     "output_type": "stream",
     "text": [
      "{'name': 'Zoe Osvaldo', 'age': 30, 'city': 'London'}\n"
     ]
    }
   ],
   "source": [
    "# Example: Returning multiple values using a dictionary\n",
    "\n",
    "def get_person_details(name, age, city):\n",
    "    info_dict = {\"name\": name, \"age\": age, \"city\": city}\n",
    "    return info_dict\n",
    "result_dict = get_person_details(\"Zoe Osvaldo\", 30, \"London\")\n",
    "print(result_dict)  # Output: {'name': 'Zoe Osvaldo', 'age': 30, 'city': 'London'}"
   ]
  },
  {
   "cell_type": "markdown",
   "id": "f884c698",
   "metadata": {},
   "source": [
    "# 7. What is the difference between the \"pass by value\" and \"pass by reference\" concepts when it comes to function arguments in Python?"
   ]
  },
  {
   "cell_type": "markdown",
   "id": "3f156a67",
   "metadata": {},
   "source": [
    "### Pass by reference vs value in Python\n",
    "\n",
    "When you give function parameters via reference, you're just passing references to values that already exist. When you pass arguments by value, on the other hand, the arguments become independent copies of the original values."
   ]
  },
  {
   "cell_type": "markdown",
   "id": "3c6c22b2",
   "metadata": {},
   "source": [
    "**Pass by value**\n",
    "\n",
    "Any other operation performed will not have any effect on the original value as the argument passed to the function is copied. It only changes the value of the copy created within the function."
   ]
  },
  {
   "cell_type": "code",
   "execution_count": 1,
   "id": "e97e8023",
   "metadata": {},
   "outputs": [
    {
     "name": "stdout",
     "output_type": "stream",
     "text": [
      "Before function call  100\n",
      "Inside function call  200\n",
      "After function call  100\n"
     ]
    }
   ],
   "source": [
    "def function(int):\n",
    "  int+=100\n",
    "  print(\"Inside function call \",int)\n",
    "\n",
    "int=100\n",
    "print(\"Before function call \",int)\n",
    "function(int)\n",
    "print(\"After function call \",int)"
   ]
  },
  {
   "cell_type": "markdown",
   "id": "c1e563e2",
   "metadata": {},
   "source": [
    "In this, we assigned the variable the value '100' and changed it to '200', but the change was not seen outside the function i.e. int is still '100'. Hence proved, it is pass by value method."
   ]
  },
  {
   "cell_type": "markdown",
   "id": "00041f0a",
   "metadata": {},
   "source": [
    "**Pass by reference**\n",
    "\n",
    "This method passes a reference to the original arguments, and any operation performed on the parameter affects the actual value. It alters the value in both function and globally."
   ]
  },
  {
   "cell_type": "code",
   "execution_count": 3,
   "id": "11cee3c9",
   "metadata": {},
   "outputs": [
    {
     "name": "stdout",
     "output_type": "stream",
     "text": [
      "Before function call ['A']\n",
      "Inside function call ['A', 'B']\n",
      "After function call ['A', 'B']\n"
     ]
    }
   ],
   "source": [
    "def function(int):\n",
    "    int.append('B')\n",
    "    print(\"Inside function call\",int)\n",
    "    \n",
    "int=['A']\n",
    "print(\"Before function call\",int)\n",
    "function(int)\n",
    "print(\"After function call\",int)"
   ]
  },
  {
   "cell_type": "markdown",
   "id": "e0dc8025",
   "metadata": {},
   "source": [
    "In the above example, function() returns a string and also modifies the value of int. This shows that Python supports the pass by reference method."
   ]
  },
  {
   "cell_type": "markdown",
   "id": "a7e8756c",
   "metadata": {},
   "source": [
    "# 8. Create a function that can intake integer or decimal value and do following operations:\n",
    "\n",
    "a. Logarithmic function (log x)\n",
    "\n",
    "b. Exponential function (exp(x))\n",
    "\n",
    "c. Power function with base 2 (2x)\n",
    "\n",
    "d. Square root"
   ]
  },
  {
   "cell_type": "markdown",
   "id": "bb4b9eab",
   "metadata": {},
   "source": [
    "**a. Logarithmic function (log x)**"
   ]
  },
  {
   "cell_type": "code",
   "execution_count": 4,
   "id": "f2e95bec",
   "metadata": {},
   "outputs": [
    {
     "name": "stdout",
     "output_type": "stream",
     "text": [
      "Enter a number: 20\n",
      "The logarithm of 20 is: 1.3010299956639813\n"
     ]
    }
   ],
   "source": [
    "import math\n",
    "\n",
    "def compute_logarithm(x):\n",
    "    try:\n",
    "        result = math.log10(float(x))\n",
    "        return result\n",
    "    except ValueError:\n",
    "        return \"Invalid input. Please provide a valid numeric value.\"\n",
    "\n",
    "# Example usage:\n",
    "number = input(\"Enter a number: \")\n",
    "result = compute_logarithm(number)\n",
    "print(f\"The logarithm of {number} is: {result}\")"
   ]
  },
  {
   "cell_type": "markdown",
   "id": "20bca5ca",
   "metadata": {},
   "source": [
    "**b. Exponential function (exp(x))**"
   ]
  },
  {
   "cell_type": "code",
   "execution_count": 5,
   "id": "4bcb9190",
   "metadata": {},
   "outputs": [
    {
     "name": "stdout",
     "output_type": "stream",
     "text": [
      "Enter a number: 6\n",
      "The exponential of 6 is: 403.4287934927351\n"
     ]
    }
   ],
   "source": [
    "import math\n",
    "\n",
    "def compute_exponential(x):\n",
    "    try:\n",
    "        result = math.exp(float(x))\n",
    "        return result\n",
    "    except ValueError:\n",
    "        return \"Invalid input. Please provide a valid numeric value.\"\n",
    "\n",
    "# Example usage:\n",
    "number = input(\"Enter a number: \")\n",
    "result = compute_exponential(number)\n",
    "print(f\"The exponential of {number} is: {result}\")"
   ]
  },
  {
   "cell_type": "markdown",
   "id": "18487745",
   "metadata": {},
   "source": [
    "**c. Power function with base 2 (2x)**"
   ]
  },
  {
   "cell_type": "code",
   "execution_count": null,
   "id": "6d24bd6e",
   "metadata": {},
   "outputs": [],
   "source": [
    "def compute_power_of_two(x):\n",
    "    try:\n",
    "        result = 2 ** float(x)\n",
    "        return result\n",
    "    except ValueError:\n",
    "        return \"Invalid input. Please provide a valid numeric value.\"\n",
    "\n",
    "# Example usage:\n",
    "number = input(\"Enter a number: \")\n",
    "result = compute_power_of_two(number)\n",
    "print(f\"2 raised to the power of {number} is: {result}\")"
   ]
  },
  {
   "cell_type": "markdown",
   "id": "b2659601",
   "metadata": {},
   "source": [
    "**d. Square root**"
   ]
  },
  {
   "cell_type": "code",
   "execution_count": 7,
   "id": "bd1a287e",
   "metadata": {},
   "outputs": [
    {
     "name": "stdout",
     "output_type": "stream",
     "text": [
      "Enter a number: 9\n",
      "The square root of 9 is: 3.0\n"
     ]
    }
   ],
   "source": [
    "import math\n",
    "\n",
    "def compute_square_root(x):\n",
    "    try:\n",
    "        result = math.sqrt(float(x))\n",
    "        return result\n",
    "    except ValueError:\n",
    "        return \"Invalid input. Please provide a valid numeric value.\"\n",
    "\n",
    "# Example usage:\n",
    "number = input(\"Enter a number: \")\n",
    "result = compute_square_root(number)\n",
    "print(f\"The square root of {number} is: {result}\")"
   ]
  },
  {
   "cell_type": "markdown",
   "id": "f436edda",
   "metadata": {},
   "source": [
    "# 9. Create a function that takes a full name as an argument and returns first name and last name."
   ]
  },
  {
   "cell_type": "code",
   "execution_count": 13,
   "id": "b43a6e35",
   "metadata": {},
   "outputs": [
    {
     "name": "stdout",
     "output_type": "stream",
     "text": [
      "Enter your full name: Mary Jeeva\n",
      "First name : Mary\n",
      "Last name : Jeeva\n"
     ]
    }
   ],
   "source": [
    "def extract_names(full_name):\n",
    "    names = full_name.split()\n",
    "    if len(names) >= 2:\n",
    "        first_name = names[0]\n",
    "        last_name = ' '.join(names[1:])\n",
    "        return first_name, last_name\n",
    "    else:\n",
    "        return \"Please provide both first name and last name.\"\n",
    "\n",
    "# Example usage:\n",
    "full_name = input(\"Enter your full name: \")\n",
    "first, last = extract_names(full_name)\n",
    "if isinstance(first, str):\n",
    "    print('First name :', first)\n",
    "    print('Last name :', last)\n",
    "else:\n",
    "    print(first)"
   ]
  }
 ],
 "metadata": {
  "kernelspec": {
   "display_name": "Python 3 (ipykernel)",
   "language": "python",
   "name": "python3"
  },
  "language_info": {
   "codemirror_mode": {
    "name": "ipython",
    "version": 3
   },
   "file_extension": ".py",
   "mimetype": "text/x-python",
   "name": "python",
   "nbconvert_exporter": "python",
   "pygments_lexer": "ipython3",
   "version": "3.10.9"
  }
 },
 "nbformat": 4,
 "nbformat_minor": 5
}

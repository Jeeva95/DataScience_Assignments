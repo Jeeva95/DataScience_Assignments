{
 "cells": [
  {
   "cell_type": "markdown",
   "id": "e3992bb6",
   "metadata": {},
   "source": [
    "## Q.1. What are keywords in python? Using the keyword library, print all the python keywords."
   ]
  },
  {
   "cell_type": "markdown",
   "id": "bf3b85c0",
   "metadata": {},
   "source": [
    "**Keywords in python :** Python Keywords are some predefined and reserved words in Python that have special meanings. Keywords are used to define the syntax of the coding. The keyword cannot be used as an identifier, function, or variable name. All the keywords in Python are written in lowercase except True and False."
   ]
  },
  {
   "cell_type": "code",
   "execution_count": 1,
   "id": "97b48db6",
   "metadata": {},
   "outputs": [
    {
     "name": "stdout",
     "output_type": "stream",
     "text": [
      "Python keywords are...\n",
      "['False', 'None', 'True', 'and', 'as', 'assert', 'async', 'await', 'break', 'class', 'continue', 'def', 'del', 'elif', 'else', 'except', 'finally', 'for', 'from', 'global', 'if', 'import', 'in', 'is', 'lambda', 'nonlocal', 'not', 'or', 'pass', 'raise', 'return', 'try', 'while', 'with', 'yield']\n"
     ]
    }
   ],
   "source": [
    "#Python program to print the list of all keywords\n",
    "\n",
    "# importing the module\n",
    "import keyword\n",
    "\n",
    "# printing the keywords\n",
    "print(\"Python keywords are...\")\n",
    "print(keyword.kwlist)"
   ]
  },
  {
   "cell_type": "markdown",
   "id": "f6a626c6",
   "metadata": {},
   "source": [
    "## Q.2. What are the rules to create variables in python?"
   ]
  },
  {
   "cell_type": "markdown",
   "id": "4de3e6ad",
   "metadata": {},
   "source": [
    "**Rules for Python variables:**\n",
    "\n",
    "- A variable name must start with a letter or the underscore character\n",
    "- A variable name cannot start with a number\n",
    "- A variable name can only contain alpha-numeric characters and underscores (A-z, 0-9, and _ )\n",
    "- Variable names are case-sensitive (age, Age and AGE are three different variables)\n",
    "- A variable name cannot be any of the Python keywords."
   ]
  },
  {
   "cell_type": "markdown",
   "id": "1718c593",
   "metadata": {},
   "source": [
    "## Q.3. What are the standards and conventions followed for the nomenclature of variables in python to improve code readability and maintainability?"
   ]
  },
  {
   "cell_type": "markdown",
   "id": "ead41f1a",
   "metadata": {},
   "source": [
    "**Variable Naming Conventions**\n",
    "\n",
    "A variable name in Python should be descriptive and concise, making it easy for anyone reading your code to understand what the variable is used for. It should start with a lowercase letter, and it can include letters, numbers, and underscores. However, it cannot start with a number."
   ]
  },
  {
   "cell_type": "markdown",
   "id": "c8b6ac3b",
   "metadata": {},
   "source": [
    "**1. Overriding Principle: Clarity and Readability**\n",
    "\n",
    "When it comes to naming variables, functions, classes, and modules in Python, the overriding principle is clarity and readability. The code is read more often than it is written, so prioritize names that clearly convey their purpose and functionality. Remember, descriptive names make the code self-explanatory and help other developers understand it effortlessly."
   ]
  },
  {
   "cell_type": "code",
   "execution_count": 4,
   "id": "7f075c3f",
   "metadata": {},
   "outputs": [],
   "source": [
    "# Bad Example\n",
    "a = 10  # What does 'a' represent?\n",
    "\n",
    "# Good Example\n",
    "count = 10  # Descriptive name for better understanding"
   ]
  },
  {
   "cell_type": "markdown",
   "id": "317d92c3",
   "metadata": {},
   "source": [
    "**2. Descriptive Naming Styles: Consistency is Key**\n",
    "\n",
    "Python offers various naming styles, such as lowercase, lowercase with underscores, CamelCase, and ALL_CAPS. For variables and functions, use lowercase with underscores (snake_case). For classes, use CamelCase."
   ]
  },
  {
   "cell_type": "code",
   "execution_count": 6,
   "id": "b897dbe0",
   "metadata": {},
   "outputs": [],
   "source": [
    "# Bad Example\n",
    "myvariable = 42  # Not following naming style\n",
    "\n",
    "# Good Example\n",
    "my_variable = 42  # Consistent and descriptive name"
   ]
  },
  {
   "cell_type": "markdown",
   "id": "0f398817",
   "metadata": {},
   "source": [
    "**3. Avoid Names to Avoid: Steer Clear of Confusion**\n",
    "\n",
    "To prevent conflicts and confusion, certain names should be avoided in Python. For instance, refrain from using built-in functions or module names as variable names. Additionally, single-character variable names should generally be avoided, except for simple counters or iterators. Meaningful and descriptive names enhance code comprehension and reduce ambiguity."
   ]
  },
  {
   "cell_type": "code",
   "execution_count": 7,
   "id": "7ddbed01",
   "metadata": {},
   "outputs": [],
   "source": [
    "# Bad Example\n",
    "list = [1, 2, 3]  # Hiding the built-in list() function\n",
    "\n",
    "# Good Example\n",
    "my_list = [1, 2, 3]  # Avoiding conflicts by using a descriptive name"
   ]
  },
  {
   "cell_type": "markdown",
   "id": "63c40be1",
   "metadata": {},
   "source": [
    "**4. ASCII Compatibility: Striving for Portability**\n",
    "\n",
    "While Python supports Unicode characters for variable names, it is recommended to use ASCII characters for compatibility across platforms, editors, and tools. Non-ASCII characters can lead to encoding issues and hinder the portability of your codebase. Stick to ASCII characters to ensure smooth collaboration and consistent code execution."
   ]
  },
  {
   "cell_type": "code",
   "execution_count": 8,
   "id": "ccc9bd91",
   "metadata": {},
   "outputs": [],
   "source": [
    "# Bad Example\n",
    "ç = 42  # Non-ASCII character can cause compatibility issues\n",
    "\n",
    "# Good Example\n",
    "count = 42  # ASCII characters ensure compatibility and portability"
   ]
  },
  {
   "cell_type": "markdown",
   "id": "863245f7",
   "metadata": {},
   "source": [
    "**5. Package and Module Names: Short, Sweet, and Descriptive**\n",
    "\n",
    "When naming packages and modules in Python, opt for short and concise names that clearly describe their purpose. Avoid using underscores or hyphens in package names to maintain consistency with the Python standard library and third-party packages. However, it is acceptable to use underscores for sub-modules within a package."
   ]
  },
  {
   "cell_type": "code",
   "execution_count": 9,
   "id": "055bf089",
   "metadata": {},
   "outputs": [],
   "source": [
    "# Bad Example\n",
    "my_package_name_with_underscores = ...\n",
    "\n",
    "# Good Example\n",
    "mypackage = ..."
   ]
  },
  {
   "cell_type": "markdown",
   "id": "b6780a4a",
   "metadata": {},
   "source": [
    "**6. Type Variable Names: Clarity in Type Hinting**\n",
    "\n",
    "When defining type hints or type variables, adhere to the convention of using CamelCase with a leading capital letter. This practice helps distinguish type variables from regular variables and improves code readability, especially when working with complex type annotations."
   ]
  },
  {
   "cell_type": "code",
   "execution_count": null,
   "id": "0744285e",
   "metadata": {},
   "outputs": [],
   "source": [
    "# Bad Example\n",
    "def calculate_total(items: dict[int, str]):  # Unclear type variable name\n",
    "\n",
    "# Good Example\n",
    "def calculate_total(items: Dict[int, str]):  # Clear and descriptive type variable name"
   ]
  },
  {
   "cell_type": "markdown",
   "id": "6b7208a5",
   "metadata": {},
   "source": [
    "**7. Constants: Shouting in UPPERCASE**\n",
    "\n",
    "Constants are values that are not expected to change during runtime. By convention, constant names are written in uppercase letters with underscores separating words. Defining constants at the module level allows them to be easily accessed and used throughout the project."
   ]
  },
  {
   "cell_type": "code",
   "execution_count": 11,
   "id": "dd411cb5",
   "metadata": {},
   "outputs": [],
   "source": [
    "# Bad Example\n",
    "PI = 3.1416  # Not using uppercase and underscores\n",
    "\n",
    "# Good Example\n",
    "PI = 3.1416  # Constant value in uppercase with underscores"
   ]
  },
  {
   "cell_type": "markdown",
   "id": "f99a11b8",
   "metadata": {},
   "source": [
    "## Q.4. What will happen if a keyword is used as a variable name?"
   ]
  },
  {
   "cell_type": "markdown",
   "id": "719a2805",
   "metadata": {},
   "source": [
    "keywords are special words that have a meaning in Python, so we cannot use them as variable names. We'll get a SyntaxError if we try to do that."
   ]
  },
  {
   "cell_type": "markdown",
   "id": "ad70fc68",
   "metadata": {},
   "source": [
    "## Q.5. For what purpose def keyword is used?"
   ]
  },
  {
   "cell_type": "markdown",
   "id": "cea02436",
   "metadata": {},
   "source": [
    "Python def keyword is used to define a function, it is placed before a function name that is provided by the user to create a user-defined function. In Python, a function is a logical unit of code containing a sequence of statements indented under a name given using the “def” keyword. In Python def keyword is the most used keyword."
   ]
  },
  {
   "cell_type": "markdown",
   "id": "1ab68f14",
   "metadata": {},
   "source": [
    "**Python def Syntax:**\n",
    "\n",
    "def function_name: \n",
    "\n",
    "    function definition statements..."
   ]
  },
  {
   "cell_type": "markdown",
   "id": "dba7822d",
   "metadata": {},
   "source": [
    "## Q.6. What is the operation of this special character ‘\\’?"
   ]
  },
  {
   "cell_type": "markdown",
   "id": "17c463b8",
   "metadata": {},
   "source": [
    "In Python strings, the backslash \" \\ \" is a special character, also called the \"escape\" character. It is used in representing certain whitespace characters: \"\\t\" is a tab, \"\\n\" is a newline, and \"\\r\" is a carriage return. Conversely, prefixing a special character with \" \\ \" turns it into an ordinary character."
   ]
  },
  {
   "cell_type": "markdown",
   "id": "ea0fed8a",
   "metadata": {},
   "source": [
    "## Q.7. Give an example of the following conditions:\n",
    "\n",
    "(i) Homogeneous list\n",
    "\n",
    "(ii) Heterogeneous set\n",
    "\n",
    "(iii) Homogeneous tuple"
   ]
  },
  {
   "cell_type": "markdown",
   "id": "26ae7bbb",
   "metadata": {},
   "source": [
    "**Homogeneous list**\n",
    "\n",
    "Homogeneous means that it only contains a single type of data."
   ]
  },
  {
   "cell_type": "code",
   "execution_count": 3,
   "id": "da04a021",
   "metadata": {},
   "outputs": [
    {
     "data": {
      "text/plain": [
       "['France', 'Uruguay', 'Germany', 'Netherlands', 'Ghana']"
      ]
     },
     "execution_count": 3,
     "metadata": {},
     "output_type": "execute_result"
    }
   ],
   "source": [
    "# Homogeneous list\n",
    "countries = [\"France\", \"Uruguay\", \"Germany\", \"Netherlands\", \"Ghana\"]\n",
    "countries"
   ]
  },
  {
   "cell_type": "markdown",
   "id": "a7e1ac26",
   "metadata": {},
   "source": [
    "**Heterogeneous set**\n",
    "\n",
    "Python sets can store heterogeneous elements in it, i.e., a set can store a mixture of string, integer, boolean, etc datatypes."
   ]
  },
  {
   "cell_type": "code",
   "execution_count": 4,
   "id": "baf2a5e3",
   "metadata": {},
   "outputs": [
    {
     "name": "stdout",
     "output_type": "stream",
     "text": [
      "{True, 'for', 52.7, 10, 'Python'}\n"
     ]
    }
   ],
   "source": [
    "# Heterogeneous set\n",
    "myset = {\"Python\", \"for\", 10, 52.7, True}\n",
    "print(myset)"
   ]
  },
  {
   "cell_type": "markdown",
   "id": "96198f34",
   "metadata": {},
   "source": [
    "**Homogeneous tuple**\n",
    "\n",
    "Tuples are used to store heterogeneous and homogeneous data. Homogeneous means that it only contains a single type of data."
   ]
  },
  {
   "cell_type": "code",
   "execution_count": 6,
   "id": "e3924a12",
   "metadata": {},
   "outputs": [
    {
     "data": {
      "text/plain": [
       "(10, 20, 30, 40, 50)"
      ]
     },
     "execution_count": 6,
     "metadata": {},
     "output_type": "execute_result"
    }
   ],
   "source": [
    "mytuple = (10, 20, 30, 40, 50)\n",
    "mytuple"
   ]
  },
  {
   "cell_type": "code",
   "execution_count": 8,
   "id": "d0140f7b",
   "metadata": {},
   "outputs": [
    {
     "name": "stdout",
     "output_type": "stream",
     "text": [
      "Pineapple\n",
      "orange\n",
      "banana\n",
      "apple\n"
     ]
    }
   ],
   "source": [
    "smoothie_fruits = (\"Pineapple\", \"orange\", \"banana\", \"apple\")\n",
    "for fruit in smoothie_fruits:\n",
    "    print(fruit)"
   ]
  },
  {
   "cell_type": "markdown",
   "id": "77768793",
   "metadata": {},
   "source": [
    "# Q.8. Explain the mutable and immutable data types with proper explanation & examples."
   ]
  },
  {
   "cell_type": "markdown",
   "id": "28b3656d",
   "metadata": {},
   "source": [
    "# Mutable data types\n",
    "\n",
    "Anything is said to be mutable when anything can be modified or changed. The term \"mutable\" in Python refers to an object's capacity to modify its values. These are frequently the things that hold a data collection.\n",
    "\n",
    "Python mutable data types:\n",
    "\n",
    "- Lists\n",
    "- Dictionaries\n",
    "- Sets\n",
    "- User-Defined Classes (It depends on the user to define the characteristics of the classes)"
   ]
  },
  {
   "cell_type": "markdown",
   "id": "1d22c267",
   "metadata": {},
   "source": [
    "#### Example of Mutable Objects in Python"
   ]
  },
  {
   "cell_type": "code",
   "execution_count": 9,
   "id": "1a683569",
   "metadata": {},
   "outputs": [
    {
     "name": "stdout",
     "output_type": "stream",
     "text": [
      "The original list:  ['Python', 'Java', 23, False, 5.3]\n",
      "The modified list:  ['Python', 'Java', 'changed', False, 5.3]\n"
     ]
    }
   ],
   "source": [
    "# List\n",
    "# Python program to show that a list is a mutable data type  \n",
    "  \n",
    "# Creating a list  \n",
    "list1 = ['Python', 'Java', 23, False, 5.3]  \n",
    "print(\"The original list: \", list1)  \n",
    "  \n",
    "# Changing the value at index 2 of the list  \n",
    "list1[2]='changed'  \n",
    "print(\"The modified list: \", list1)  "
   ]
  },
  {
   "cell_type": "code",
   "execution_count": 10,
   "id": "d1b28067",
   "metadata": {},
   "outputs": [
    {
     "name": "stdout",
     "output_type": "stream",
     "text": [
      "The original dictionary:  {1: 'a', 2: 'b', 3: 'c'}\n",
      "The modified dictionary:  {1: 'a', 2: 'changed', 3: 'c'}\n"
     ]
    }
   ],
   "source": [
    "# Dictionary\n",
    "# Python program to show that a dictionary is a mutable data type  \n",
    "  \n",
    "# Creating a dictionary  \n",
    "dict_ = {1: \"a\", 2: \"b\", 3: \"c\"}  \n",
    "print(\"The original dictionary: \", dict_)  \n",
    "  \n",
    "# Changing the value of one of the keys of the dictionary  \n",
    "dict_[2]= 'changed'  \n",
    "print(\"The modified dictionary: \", dict_)  "
   ]
  },
  {
   "cell_type": "code",
   "execution_count": 11,
   "id": "c6e9c450",
   "metadata": {},
   "outputs": [
    {
     "name": "stdout",
     "output_type": "stream",
     "text": [
      "The original set:  {1, 2, 3, 4}\n",
      "The modified set:  {1, 2, 3, 4, 'c', 'a', 'b'}\n"
     ]
    }
   ],
   "source": [
    "# Set\n",
    "# Python program to show that a set is a mutable data type  \n",
    "  \n",
    "# Creating a set  \n",
    "set_ = {1, 2, 3, 4}  \n",
    "print(\"The original set: \", set_)  \n",
    "  \n",
    "# Updating the set using the update function  \n",
    "update_set = {'a', 'b', 'c'}  \n",
    "set_.update(update_set)  \n",
    "print(\"The modified set: \", set_)  "
   ]
  },
  {
   "cell_type": "markdown",
   "id": "8298e518",
   "metadata": {},
   "source": [
    "# Immutable data types\n",
    "\n",
    "Immutable refers to a state in which no change can occur over time. A Python object is referred to as immutable if we cannot change its value over time. The value of these Python objects is fixed once they are made.\n",
    "\n",
    "Python immutable data types:\n",
    "\n",
    "- Numbers (Integer, Float, Complex, Decimal, Rational & Booleans)\n",
    "- Tuples\n",
    "- Strings\n",
    "- Frozen Sets"
   ]
  },
  {
   "cell_type": "code",
   "execution_count": 12,
   "id": "2b0bbaab",
   "metadata": {},
   "outputs": [
    {
     "name": "stdout",
     "output_type": "stream",
     "text": [
      "The memory address of int before updating:  2653447128048\n",
      "The memory address of int after updating:  2653447128368\n"
     ]
    }
   ],
   "source": [
    "# int\n",
    "# Python program to show that int is an immutable data type  \n",
    "  \n",
    "int_ = 25  \n",
    "print('The memory address of int before updating: ', id(int_))  \n",
    "  \n",
    "# Modifying an int object by giving a new value to it  \n",
    "int_ = 35  \n",
    "print('The memory address of int after updating: ', id(int_))  "
   ]
  },
  {
   "cell_type": "code",
   "execution_count": 13,
   "id": "d5c2bf07",
   "metadata": {},
   "outputs": [
    {
     "name": "stdout",
     "output_type": "stream",
     "text": [
      "The memory address of float before updating:  2653530688752\n",
      "The memory address of float after updating:  2653530698512\n"
     ]
    }
   ],
   "source": [
    "# float\n",
    "# Python program to show that float is an immutable data type  \n",
    "  \n",
    "float_ = float(34.5)  \n",
    "print('The memory address of float before updating: ', id(float_))  \n",
    "  \n",
    "# Modifying the float object by giving a new value to it  \n",
    "float_ = float(32.5)  \n",
    "print('The memory address of float after updating: ', id(float_))  "
   ]
  },
  {
   "cell_type": "code",
   "execution_count": 14,
   "id": "114205cb",
   "metadata": {},
   "outputs": [
    {
     "ename": "TypeError",
     "evalue": "'str' object does not support item assignment",
     "output_type": "error",
     "traceback": [
      "\u001b[1;31m---------------------------------------------------------------------------\u001b[0m",
      "\u001b[1;31mTypeError\u001b[0m                                 Traceback (most recent call last)",
      "Cell \u001b[1;32mIn[14], line 8\u001b[0m\n\u001b[0;32m      5\u001b[0m string \u001b[38;5;241m=\u001b[39m \u001b[38;5;124m'\u001b[39m\u001b[38;5;124mhello peeps\u001b[39m\u001b[38;5;124m'\u001b[39m  \n\u001b[0;32m      7\u001b[0m \u001b[38;5;66;03m# Trying to modify the string object  \u001b[39;00m\n\u001b[1;32m----> 8\u001b[0m string[\u001b[38;5;241m0\u001b[39m] \u001b[38;5;241m=\u001b[39m \u001b[38;5;124m'\u001b[39m\u001b[38;5;124mX\u001b[39m\u001b[38;5;124m'\u001b[39m  \n\u001b[0;32m      9\u001b[0m \u001b[38;5;28mprint\u001b[39m(string)\n",
      "\u001b[1;31mTypeError\u001b[0m: 'str' object does not support item assignment"
     ]
    }
   ],
   "source": [
    "# String\n",
    "# Python program to show that a string is an immutable data type  \n",
    "  \n",
    "# Creating a string object  \n",
    "string = 'hello peeps'  \n",
    "  \n",
    "# Trying to modify the string object  \n",
    "string[0] = 'X'  \n",
    "print(string)  "
   ]
  },
  {
   "cell_type": "code",
   "execution_count": 15,
   "id": "cc3351f0",
   "metadata": {},
   "outputs": [
    {
     "ename": "TypeError",
     "evalue": "'tuple' object does not support item assignment",
     "output_type": "error",
     "traceback": [
      "\u001b[1;31m---------------------------------------------------------------------------\u001b[0m",
      "\u001b[1;31mTypeError\u001b[0m                                 Traceback (most recent call last)",
      "Cell \u001b[1;32mIn[15], line 8\u001b[0m\n\u001b[0;32m      5\u001b[0m tuple_ \u001b[38;5;241m=\u001b[39m (\u001b[38;5;241m2\u001b[39m, \u001b[38;5;241m3\u001b[39m, \u001b[38;5;241m4\u001b[39m, \u001b[38;5;241m5\u001b[39m)  \n\u001b[0;32m      7\u001b[0m \u001b[38;5;66;03m# Trying to modify the tuple object  \u001b[39;00m\n\u001b[1;32m----> 8\u001b[0m tuple_[\u001b[38;5;241m0\u001b[39m] \u001b[38;5;241m=\u001b[39m \u001b[38;5;124m'\u001b[39m\u001b[38;5;124mX\u001b[39m\u001b[38;5;124m'\u001b[39m  \n\u001b[0;32m      9\u001b[0m \u001b[38;5;28mprint\u001b[39m(tulple_)\n",
      "\u001b[1;31mTypeError\u001b[0m: 'tuple' object does not support item assignment"
     ]
    }
   ],
   "source": [
    "# Tuple\n",
    "# Python program to show that a tuple is an immutable data type  \n",
    "  \n",
    "# Creating a tuple object  \n",
    "tuple_ = (2, 3, 4, 5)  \n",
    "  \n",
    "# Trying to modify the tuple object  \n",
    "tuple_[0] = 'X'  \n",
    "print(tulple_)  "
   ]
  },
  {
   "cell_type": "code",
   "execution_count": 17,
   "id": "c4bbab60",
   "metadata": {},
   "outputs": [
    {
     "ename": "TypeError",
     "evalue": "'frozenset' object does not support item assignment",
     "output_type": "error",
     "traceback": [
      "\u001b[1;31m---------------------------------------------------------------------------\u001b[0m",
      "\u001b[1;31mTypeError\u001b[0m                                 Traceback (most recent call last)",
      "Cell \u001b[1;32mIn[17], line 9\u001b[0m\n\u001b[0;32m      6\u001b[0m fset \u001b[38;5;241m=\u001b[39m \u001b[38;5;28mfrozenset\u001b[39m(t)  \n\u001b[0;32m      8\u001b[0m \u001b[38;5;66;03m# Updating the value of the frozenset  \u001b[39;00m\n\u001b[1;32m----> 9\u001b[0m fset[\u001b[38;5;241m1\u001b[39m] \u001b[38;5;241m=\u001b[39m \u001b[38;5;241m76\u001b[39m  \n\u001b[0;32m     10\u001b[0m \u001b[38;5;28mprint\u001b[39m(fset)\n",
      "\u001b[1;31mTypeError\u001b[0m: 'frozenset' object does not support item assignment"
     ]
    }
   ],
   "source": [
    "# FrozenSet\n",
    "# Python program to show that a frozenset is an immutable data type  \n",
    "  \n",
    "# Creating a frozenset object  \n",
    "t = (2, 4, 5, 7, 8, 9, 5, 9, 6, 11, 12)  \n",
    "fset = frozenset(t)  \n",
    "  \n",
    "# Updating the value of the frozenset  \n",
    "fset[1] = 76  \n",
    "print(fset)  "
   ]
  },
  {
   "cell_type": "markdown",
   "id": "27c1e315",
   "metadata": {},
   "source": [
    "# Q.9. Write a code to create the given structure using only for loop."
   ]
  },
  {
   "cell_type": "code",
   "execution_count": null,
   "id": "aee220af",
   "metadata": {},
   "outputs": [],
   "source": [
    "     *\n",
    "    ***\n",
    "   *****\n",
    "  *******\n",
    " *********"
   ]
  },
  {
   "cell_type": "code",
   "execution_count": 21,
   "id": "99d4d4b0",
   "metadata": {},
   "outputs": [
    {
     "name": "stdout",
     "output_type": "stream",
     "text": [
      "    *\n",
      "   ***\n",
      "  *****\n",
      " *******\n",
      "*********\n"
     ]
    }
   ],
   "source": [
    "rows = 5\n",
    "for i in range(rows):\n",
    "    # Print spaces\n",
    "    for j in range(rows - i - 1):\n",
    "        print(\" \", end=\"\")\n",
    "    \n",
    "    # Print asterisks\n",
    "    for k in range(2 * i + 1):\n",
    "        print(\"*\", end=\"\")\n",
    "    \n",
    "    # Move to the next line\n",
    "    print()"
   ]
  },
  {
   "cell_type": "markdown",
   "id": "546f49fb",
   "metadata": {},
   "source": [
    "# Q.10. Write a code to create the given structure using while loop."
   ]
  },
  {
   "cell_type": "code",
   "execution_count": null,
   "id": "add8f11c",
   "metadata": {},
   "outputs": [],
   "source": [
    "|||||||||\n",
    " |||||||\n",
    "  |||||\n",
    "   |||\n",
    "    |"
   ]
  },
  {
   "cell_type": "code",
   "execution_count": 3,
   "id": "6e7e263d",
   "metadata": {},
   "outputs": [
    {
     "name": "stdout",
     "output_type": "stream",
     "text": [
      "|||||||||\n",
      " |||||||\n",
      "  |||||\n",
      "   |||\n",
      "    |\n"
     ]
    }
   ],
   "source": [
    "rows = 5\n",
    "while rows >= 1:\n",
    "    spaces = 5 - rows\n",
    "    while spaces > 0:\n",
    "        print(\" \", end=\"\")\n",
    "        spaces -= 1\n",
    "        \n",
    "    pipes = 2 * rows - 1\n",
    "    while pipes > 0:\n",
    "        print(\"|\", end=\"\")\n",
    "        pipes -= 1\n",
    "    \n",
    "    print()  # Move to the next line\n",
    "    rows -= 1"
   ]
  }
 ],
 "metadata": {
  "kernelspec": {
   "display_name": "Python 3 (ipykernel)",
   "language": "python",
   "name": "python3"
  },
  "language_info": {
   "codemirror_mode": {
    "name": "ipython",
    "version": 3
   },
   "file_extension": ".py",
   "mimetype": "text/x-python",
   "name": "python",
   "nbconvert_exporter": "python",
   "pygments_lexer": "ipython3",
   "version": "3.10.9"
  }
 },
 "nbformat": 4,
 "nbformat_minor": 5
}

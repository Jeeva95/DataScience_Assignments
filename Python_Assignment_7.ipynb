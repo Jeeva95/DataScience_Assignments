{
 "cells": [
  {
   "cell_type": "markdown",
   "id": "47bc1b6f",
   "metadata": {},
   "source": [
    "# Q.1. Create two int type variables, apply addition, subtraction, division and multiplications and store the results in variables. Then print the data in the following format by calling the variables:\n",
    "\n",
    "First variable is __ & second variable is __.\n",
    "\n",
    "Addition: __ + __ = __\n",
    "\n",
    "Subtraction: __ - __ = __\n",
    "\n",
    "Multiplication: __ * __ = __\n",
    "\n",
    "Division: __ / __ = __ "
   ]
  },
  {
   "cell_type": "code",
   "execution_count": 6,
   "id": "b66efbb4",
   "metadata": {},
   "outputs": [
    {
     "name": "stdout",
     "output_type": "stream",
     "text": [
      "enter the fisrt variable : 7\n",
      "enter the second variable : 5\n",
      "First variable is 7 & second varibale is 5\n",
      "Addition: 7 + 5 = 12\n",
      "Subtraction: 7 - 5 = 2\n",
      "Multiplication: 7 * 5 = 35\n",
      "Division: 7 / 5 = 1.4\n"
     ]
    }
   ],
   "source": [
    "x = int(input('enter the fisrt variable : '))\n",
    "y = int(input('enter the second variable : '))\n",
    "Addition = x + y\n",
    "Subtraction = x - y\n",
    "Multiplication = x * y \n",
    "Division = x / y\n",
    "\n",
    "print('First variable is',x,'&','second varibale is',y)\n",
    "print('Addition:',x,'+',y,'=',Addition)\n",
    "print('Subtraction:',x,'-',y,'=',Subtraction)\n",
    "print('Multiplication:',x,'*',y,'=',Multiplication)\n",
    "print('Division:',x,'/',y,'=',Division)"
   ]
  },
  {
   "cell_type": "markdown",
   "id": "9b037479",
   "metadata": {},
   "source": [
    "# Q.2. What is the difference between the following operators:\n",
    "\n",
    "(i) ‘/’ & ‘//’\n",
    "\n",
    "(ii) ‘**’ & ‘^’"
   ]
  },
  {
   "cell_type": "markdown",
   "id": "7ed4b437",
   "metadata": {},
   "source": [
    "-------------------------------------------------------------------------------------------------------------------------------"
   ]
  },
  {
   "cell_type": "markdown",
   "id": "361112dc",
   "metadata": {},
   "source": [
    "\n",
    "**(i) ‘/’ & ‘//'**\n",
    "#### Difference between the ‘/’ and the ‘//’ division operators in Python"
   ]
  },
  {
   "cell_type": "markdown",
   "id": "7fe51e6d",
   "metadata": {},
   "source": [
    "There are two ways to carry out division in Python with a slight difference in the output. Let’s look at both of them in detail.\n",
    "\n",
    "**1. Performing division using the ‘/’ operator**\n",
    "\n",
    "This method of division is considered as the ‘classic division’. The ‘/’ single slash carries out the float division. The output of this operator is always a quotient with a float datatype. The output remains float even if the input numbers are integer values. Even the sign of the input operands doesn’t matter about the output."
   ]
  },
  {
   "cell_type": "code",
   "execution_count": 8,
   "id": "c0f4b469",
   "metadata": {},
   "outputs": [
    {
     "name": "stdout",
     "output_type": "stream",
     "text": [
      "2.5\n"
     ]
    }
   ],
   "source": [
    "#integer input\n",
    "\n",
    "x1 = 15\n",
    "y1 = 6\n",
    "print(x1/y1)"
   ]
  },
  {
   "cell_type": "code",
   "execution_count": 9,
   "id": "a4f1132a",
   "metadata": {},
   "outputs": [
    {
     "name": "stdout",
     "output_type": "stream",
     "text": [
      "5.0\n"
     ]
    }
   ],
   "source": [
    "#float input\n",
    "\n",
    "x2 = 15.0\n",
    "y2 = 3.0\n",
    "print(x2/y2)"
   ]
  },
  {
   "cell_type": "code",
   "execution_count": 10,
   "id": "6cef118d",
   "metadata": {},
   "outputs": [
    {
     "name": "stdout",
     "output_type": "stream",
     "text": [
      "-7.5\n"
     ]
    }
   ],
   "source": [
    "#negative input\n",
    "\n",
    "x3 = -15\n",
    "y3 = 2\n",
    "print(x3/y3)"
   ]
  },
  {
   "cell_type": "markdown",
   "id": "d9c678a3",
   "metadata": {},
   "source": [
    "**2. Performing division using the ‘//’ operator**\n",
    "\n",
    "This method of division is considered the ‘true division’. The ‘//’ double slash carries out integer division which is also known as floor division. The output of this operator will be the quotient rounded off to the closest whole number. For example, 15 divided by 6 is actually 2.5 but it gets rounded off to 2.\n",
    "\n",
    "The data type of the output, in this case, is an integer for integer input whereas floating for float input. In the case of the negative input number, the output is rounded off to the larger side. For example, -15 divided by 6 is -2.5, since the quotient has a negative sign assigned to it, the output of floor division will get rounded off to -3 (remember not -2.)"
   ]
  },
  {
   "cell_type": "code",
   "execution_count": 11,
   "id": "934eebf8",
   "metadata": {},
   "outputs": [
    {
     "name": "stdout",
     "output_type": "stream",
     "text": [
      "2\n"
     ]
    }
   ],
   "source": [
    "#integer input\n",
    "\n",
    "x1 = 15\n",
    "y1 = 6\n",
    "print(x1//y1)"
   ]
  },
  {
   "cell_type": "code",
   "execution_count": 12,
   "id": "1155c3cf",
   "metadata": {},
   "outputs": [
    {
     "name": "stdout",
     "output_type": "stream",
     "text": [
      "2.0\n"
     ]
    }
   ],
   "source": [
    "#float input\n",
    "\n",
    "x2 = 15.0\n",
    "y2 = 6\n",
    "print(x2//y2)"
   ]
  },
  {
   "cell_type": "code",
   "execution_count": 13,
   "id": "726db5c8",
   "metadata": {},
   "outputs": [
    {
     "name": "stdout",
     "output_type": "stream",
     "text": [
      "2.0\n"
     ]
    }
   ],
   "source": [
    "#negative input\n",
    "\n",
    "x2 = 15.0\n",
    "y2 = 6\n",
    "print(x2//y2)"
   ]
  },
  {
   "cell_type": "markdown",
   "id": "3cf6f869",
   "metadata": {},
   "source": [
    "# Q.3. List the logical operators."
   ]
  },
  {
   "cell_type": "markdown",
   "id": "c8d6ce27",
   "metadata": {},
   "source": [
    "**Python logical operators**\n",
    "\n",
    "Sometimes, you may want to check multiple conditions at the same time. To do so, you use logical operators.\n",
    "\n",
    "Python has three logical operators:\n",
    "\n",
    "- and\n",
    "- or\n",
    "- not"
   ]
  },
  {
   "cell_type": "markdown",
   "id": "72bfdb9d",
   "metadata": {},
   "source": [
    "## The and operator\n",
    "\n",
    "The and operator checks whether two conditions are both True simultaneously:"
   ]
  },
  {
   "cell_type": "code",
   "execution_count": null,
   "id": "42a8974b",
   "metadata": {},
   "outputs": [],
   "source": [
    "a and b"
   ]
  },
  {
   "cell_type": "markdown",
   "id": "16e54c3b",
   "metadata": {},
   "source": [
    "- It returns True if both conditions are True.\n",
    "- It returns False if either the condition a or b is False."
   ]
  },
  {
   "cell_type": "code",
   "execution_count": 17,
   "id": "1bfa7c48",
   "metadata": {},
   "outputs": [
    {
     "name": "stdout",
     "output_type": "stream",
     "text": [
      "True\n"
     ]
    }
   ],
   "source": [
    "x = 5\n",
    "\n",
    "print(x > 3 and x < 10)"
   ]
  },
  {
   "cell_type": "code",
   "execution_count": 15,
   "id": "278b9ab1",
   "metadata": {},
   "outputs": [
    {
     "data": {
      "text/plain": [
       "True"
      ]
     },
     "execution_count": 15,
     "metadata": {},
     "output_type": "execute_result"
    }
   ],
   "source": [
    "price = 9.99\n",
    "price > 9 and price < 10"
   ]
  },
  {
   "cell_type": "code",
   "execution_count": 16,
   "id": "3d24d171",
   "metadata": {},
   "outputs": [
    {
     "data": {
      "text/plain": [
       "False"
      ]
     },
     "execution_count": 16,
     "metadata": {},
     "output_type": "execute_result"
    }
   ],
   "source": [
    "price > 10 and price < 20"
   ]
  },
  {
   "cell_type": "markdown",
   "id": "13d0919f",
   "metadata": {},
   "source": [
    "**The result of the and operator when combining two conditions:**\n",
    "\n",
    "a(True) and b(True) - (True)\n",
    "\n",
    "a(True) and b(False) - (False)\n",
    "\n",
    "a(False) and b(False) - (False)\n",
    "\n",
    "a(False) and b(True) - (False)"
   ]
  },
  {
   "cell_type": "markdown",
   "id": "2f9e385d",
   "metadata": {},
   "source": [
    "## The or operator\n",
    "\n",
    "Similar to the and operator, the or operator checks multiple conditions: "
   ]
  },
  {
   "cell_type": "code",
   "execution_count": null,
   "id": "dd35f69e",
   "metadata": {},
   "outputs": [],
   "source": [
    "a or b"
   ]
  },
  {
   "cell_type": "markdown",
   "id": "0171ebe9",
   "metadata": {},
   "source": [
    "- But it returns True when either or both individual conditions are True"
   ]
  },
  {
   "cell_type": "code",
   "execution_count": 19,
   "id": "aa569e73",
   "metadata": {},
   "outputs": [
    {
     "name": "stdout",
     "output_type": "stream",
     "text": [
      "True\n"
     ]
    }
   ],
   "source": [
    "x = 5\n",
    "\n",
    "print(x > 3 or x < 4)"
   ]
  },
  {
   "cell_type": "code",
   "execution_count": 20,
   "id": "e4261648",
   "metadata": {},
   "outputs": [
    {
     "data": {
      "text/plain": [
       "True"
      ]
     },
     "execution_count": 20,
     "metadata": {},
     "output_type": "execute_result"
    }
   ],
   "source": [
    "price = 9.99\n",
    "price > 10 or price < 20"
   ]
  },
  {
   "cell_type": "code",
   "execution_count": 22,
   "id": "9f516240",
   "metadata": {},
   "outputs": [
    {
     "data": {
      "text/plain": [
       "False"
      ]
     },
     "execution_count": 22,
     "metadata": {},
     "output_type": "execute_result"
    }
   ],
   "source": [
    "price = 9.99\n",
    "price > 10 or price < 5"
   ]
  },
  {
   "cell_type": "markdown",
   "id": "4be9210e",
   "metadata": {},
   "source": [
    "**The result of the or operator when combining two conditions:**\n",
    "\n",
    "a(True) or b(True) - (True)\n",
    "\n",
    "a(True) or b(False) - (True)\n",
    "\n",
    "a(False) or b(True) - (True)\n",
    "\n",
    "a(False) or b(False) - (False)"
   ]
  },
  {
   "cell_type": "markdown",
   "id": "134d0c0e",
   "metadata": {},
   "source": [
    "## The not operator\n",
    "\n",
    "The not operator applies to one condition."
   ]
  },
  {
   "cell_type": "code",
   "execution_count": null,
   "id": "ad95f7dd",
   "metadata": {},
   "outputs": [],
   "source": [
    "not a"
   ]
  },
  {
   "cell_type": "markdown",
   "id": "3ef4d2a5",
   "metadata": {},
   "source": [
    "- And it reverses the result of that condition, True becomes False and False becomes True."
   ]
  },
  {
   "cell_type": "code",
   "execution_count": 23,
   "id": "996da34f",
   "metadata": {},
   "outputs": [
    {
     "name": "stdout",
     "output_type": "stream",
     "text": [
      "False\n"
     ]
    }
   ],
   "source": [
    "x = 5\n",
    "\n",
    "print(not(x > 3 and x < 10))"
   ]
  },
  {
   "cell_type": "code",
   "execution_count": 24,
   "id": "dffa307e",
   "metadata": {},
   "outputs": [
    {
     "data": {
      "text/plain": [
       "True"
      ]
     },
     "execution_count": 24,
     "metadata": {},
     "output_type": "execute_result"
    }
   ],
   "source": [
    "price = 9.99\n",
    "not price > 10"
   ]
  },
  {
   "cell_type": "code",
   "execution_count": 25,
   "id": "8d79cec1",
   "metadata": {},
   "outputs": [
    {
     "data": {
      "text/plain": [
       "False"
      ]
     },
     "execution_count": 25,
     "metadata": {},
     "output_type": "execute_result"
    }
   ],
   "source": [
    "not (price > 5 and price < 10)"
   ]
  },
  {
   "cell_type": "markdown",
   "id": "a44d9f1d",
   "metadata": {},
   "source": [
    "# Q.4. Explain right shift operator and left shift operator with examples."
   ]
  },
  {
   "cell_type": "markdown",
   "id": "21cdb1fd",
   "metadata": {},
   "source": [
    "**Right shift operator**\n",
    "\n",
    "The Python bitwise right-shift operator x >> n shifts the binary representation of integer x by n positions to the right. It inserts a 0 bit on the left and removes the right-most bit. For example, if you right-shift the binary representation 0101 by one position, you’d obtain 0010. Semantically, the bitwise right-shift operator is the same as performing integer division by 2**n."
   ]
  },
  {
   "cell_type": "code",
   "execution_count": 30,
   "id": "03c49c65",
   "metadata": {},
   "outputs": [
    {
     "name": "stdout",
     "output_type": "stream",
     "text": [
      "2\n"
     ]
    }
   ],
   "source": [
    "num = 10\n",
    "shifted_num = num >> 2\n",
    "print(shifted_num)"
   ]
  },
  {
   "cell_type": "code",
   "execution_count": 31,
   "id": "f360a04c",
   "metadata": {},
   "outputs": [
    {
     "name": "stdout",
     "output_type": "stream",
     "text": [
      "-3\n"
     ]
    }
   ],
   "source": [
    "num = -10\n",
    "shifted_num = num >> 2\n",
    "print(shifted_num)"
   ]
  },
  {
   "cell_type": "code",
   "execution_count": 32,
   "id": "4fb4aac7",
   "metadata": {},
   "outputs": [
    {
     "name": "stdout",
     "output_type": "stream",
     "text": [
      "0\n"
     ]
    }
   ],
   "source": [
    "num = 0\n",
    "shifted_num = num >> 2\n",
    "print(shifted_num)"
   ]
  },
  {
   "cell_type": "code",
   "execution_count": 28,
   "id": "61acd785",
   "metadata": {},
   "outputs": [
    {
     "name": "stdout",
     "output_type": "stream",
     "text": [
      "-2\n"
     ]
    }
   ],
   "source": [
    "print(-3 >> 1)"
   ]
  },
  {
   "cell_type": "markdown",
   "id": "cb6e7636",
   "metadata": {},
   "source": [
    "**Left shift operator**\n",
    "\n",
    "The left shift operator in python can be represented by this symbol << . It takes two operands, the first operand is the integer value, and the second operand is the number of positions to be shifted."
   ]
  },
  {
   "cell_type": "code",
   "execution_count": 33,
   "id": "233ff4d4",
   "metadata": {},
   "outputs": [
    {
     "name": "stdout",
     "output_type": "stream",
     "text": [
      "20\n"
     ]
    }
   ],
   "source": [
    "value = 5\n",
    "shift = 2\n",
    "result = value << shift\n",
    "print(result)"
   ]
  },
  {
   "cell_type": "code",
   "execution_count": 35,
   "id": "eccbb6ef",
   "metadata": {},
   "outputs": [
    {
     "name": "stdout",
     "output_type": "stream",
     "text": [
      "Operand 1 is: 14\n",
      "operand 2 is: 2\n",
      "Result of the left shift operation on 14 by 2 bits is 56.\n"
     ]
    }
   ],
   "source": [
    "myNum1 = 14\n",
    "myNum2 = 2\n",
    "shiftNum = myNum1 << myNum2\n",
    "print(\"Operand 1 is:\", myNum1)\n",
    "print(\"operand 2 is:\", myNum2)\n",
    "print(\"Result of the left shift operation on {} by {} bits is {}.\".format(myNum1, myNum2, shiftNum))"
   ]
  },
  {
   "cell_type": "markdown",
   "id": "e898951a",
   "metadata": {},
   "source": [
    "# Q.5. Create a list containing int type data of length 15. Then write a code to check if 10 is present in the list or not."
   ]
  },
  {
   "cell_type": "code",
   "execution_count": 38,
   "id": "7d062689",
   "metadata": {},
   "outputs": [
    {
     "name": "stdout",
     "output_type": "stream",
     "text": [
      "True\n"
     ]
    }
   ],
   "source": [
    "test_list = [12,45,34,6,8,10,34,2,3,7,65,18,54,9,23]\n",
    "print(10 in test_list)"
   ]
  },
  {
   "cell_type": "code",
   "execution_count": 39,
   "id": "fffb24aa",
   "metadata": {},
   "outputs": [
    {
     "name": "stdout",
     "output_type": "stream",
     "text": [
      "10 is present in the list\n"
     ]
    }
   ],
   "source": [
    "test_list = [12,45,34,6,8,10,34,2,3,7,65,18,54,9,23]\n",
    "if 10 in test_list :\n",
    "    print('10 is present in the list')\n",
    "else :\n",
    "    print('10 is not present in the list')"
   ]
  }
 ],
 "metadata": {
  "kernelspec": {
   "display_name": "Python 3 (ipykernel)",
   "language": "python",
   "name": "python3"
  },
  "language_info": {
   "codemirror_mode": {
    "name": "ipython",
    "version": 3
   },
   "file_extension": ".py",
   "mimetype": "text/x-python",
   "name": "python",
   "nbconvert_exporter": "python",
   "pygments_lexer": "ipython3",
   "version": "3.10.9"
  }
 },
 "nbformat": 4,
 "nbformat_minor": 5
}

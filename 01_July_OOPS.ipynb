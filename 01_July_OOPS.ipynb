{
 "cells": [
  {
   "cell_type": "markdown",
   "id": "cb2f8021",
   "metadata": {},
   "source": [
    "# 1. What is the primary goal of Object-Oriented Programming (OOP)?"
   ]
  },
  {
   "cell_type": "markdown",
   "id": "ebaaab32",
   "metadata": {},
   "source": [
    "It aims to implement real-world entities like inheritance, polymorphisms, encapsulation, etc. in the programming. The main concept of OOPs is to bind the data and the functions that work on that together as a single unit so that no other part of the code can access this data."
   ]
  },
  {
   "cell_type": "markdown",
   "id": "a12ba3c7",
   "metadata": {},
   "source": [
    "### OOP Goals\n",
    "The three goals of Object Oriented Programming are Robustness, Adaptability, and Reusability.\n",
    "\n",
    "**1. Robustness**\n",
    "\n",
    "Every good programmer wants to produce software that is correct, which means that a program produces the right output for all the anticipated inputs in the program’s application. In addition, we want the software to be robust, that is, capable of handling unexpected inputs that are not explicitly defined for its application. \n",
    "\n",
    "**2. Adaptability**\n",
    "\n",
    "Modern software projects, such as word processors, web browsers, and Internet Search engines, typically involve large programs that are expected to last for many years. Therefore, software needs to evolve over time in response to changing conditions in its environment.\n",
    "\n",
    "**3. Reusability**\n",
    "\n",
    "Going hand in hand with adaptability is the desire that software is reusable, that is, code should be usable as a component of different systems in various applications. Developing quality software can be an expensive enterprise, and its cost can be offset somewhat if the software is designed in a way that makes it easily reusable in future applications. Such reuse should be done with care, however. "
   ]
  },
  {
   "cell_type": "markdown",
   "id": "5473c191",
   "metadata": {},
   "source": [
    "# 2. What is an object in Python?"
   ]
  },
  {
   "cell_type": "markdown",
   "id": "8e5a3d45",
   "metadata": {},
   "source": [
    "An Object is an instance of a Class. A class is like a blueprint while an instance is a copy of the class with actual values. Python is an object-oriented programming language that stresses objects i.e. it mainly emphasizes functions. "
   ]
  },
  {
   "cell_type": "markdown",
   "id": "80df4d59",
   "metadata": {},
   "source": [
    "Here's the syntax to create an object.\n",
    "\n",
    "objectName = ClassName()"
   ]
  },
  {
   "cell_type": "code",
   "execution_count": 1,
   "id": "8aaa2a05",
   "metadata": {},
   "outputs": [],
   "source": [
    "# create class\n",
    "class Bike:\n",
    "    name = \"\"\n",
    "    gear = 0\n",
    "\n",
    "# create objects of class\n",
    "bike1 = Bike()"
   ]
  },
  {
   "cell_type": "markdown",
   "id": "235c908a",
   "metadata": {},
   "source": [
    "Here, bike1 is the object of the class. Now, we can use this object to access the class attributes."
   ]
  },
  {
   "cell_type": "markdown",
   "id": "f791f9e0",
   "metadata": {},
   "source": [
    "# 3. What is a class in Python?"
   ]
  },
  {
   "cell_type": "markdown",
   "id": "0deea106",
   "metadata": {},
   "source": [
    "A class is a user-defined blueprint or prototype from which objects are created. Classes provide a means of bundling data and functionality together. Creating a new class creates a new type of object, allowing new instances of that type to be made. Each class instance can have attributes attached to it for maintaining its state. Class instances can also have methods (defined by their class) for modifying their state."
   ]
  },
  {
   "cell_type": "code",
   "execution_count": 3,
   "id": "b07bbfff",
   "metadata": {},
   "outputs": [
    {
     "name": "stdout",
     "output_type": "stream",
     "text": [
      "<class '__main__.MyClass'>\n"
     ]
    }
   ],
   "source": [
    "# Create a class named MyClass, with a property named x:\n",
    "\n",
    "class MyClass:\n",
    "  x = 5\n",
    "print(MyClass)"
   ]
  },
  {
   "cell_type": "markdown",
   "id": "7b026ea2",
   "metadata": {},
   "source": [
    "# 4. What are attributes and methods in a class?"
   ]
  },
  {
   "cell_type": "markdown",
   "id": "e85605b2",
   "metadata": {},
   "source": [
    "### Class attributes\n",
    "\n",
    "Class attributes are variables of a class that are shared between all of its instances. They differ from instance attributes in that instance attributes are owned by one specific instance of the class only, and are not shared between instances.\n",
    "\n",
    "In Class, attributes can be defined into two parts:\n",
    "\n",
    "**Instance variables** : The instance variables are attributes attached to an instance of a class. We define instance variables in the constructor ( the __init__() method of a class).\n",
    "\n",
    "**Class Variables** : A class variable is a variable that is declared inside of class, but outside of any instance method or __init()__ method."
   ]
  },
  {
   "cell_type": "markdown",
   "id": "32407cfb",
   "metadata": {},
   "source": [
    "Consider the following code snippet which highlights how different objects of a class share the same class attribute:"
   ]
  },
  {
   "cell_type": "markdown",
   "id": "0d949d41",
   "metadata": {},
   "source": [
    "### Methods in class\n",
    "\n",
    "Methods are functions that belongs to the class. There are two ways to define functions that belongs to a class: Inside class definition. Outside class definition.\n",
    "\n",
    "Inside a Class, we can define the following three types of methods.\n",
    "\n",
    "**Instance method** : Used to access or modify the object attributes. If we use instance variables inside a method, such methods are called instance methods.\n",
    "\n",
    "**Class method** : Used to access or modify the class state. In method implementation, if we use only class variables, then such type of methods we should declare as a class method.\n",
    "\n",
    "**Static method** : It is a general utility method that performs a task in isolation. Inside this method, we don’t use instance or class variable because this static method doesn’t have access to the class attributes."
   ]
  },
  {
   "cell_type": "markdown",
   "id": "84d995d9",
   "metadata": {},
   "source": [
    "# 5. What is the difference between class variables and instance variables in Python?"
   ]
  },
  {
   "cell_type": "markdown",
   "id": "958e70b4",
   "metadata": {},
   "source": [
    "### Class variables\n",
    "\n",
    "- A class variable is a variable that defines a particular property or attribute for a class.\n",
    "- We can share these variables between class and its subclasses.\n",
    "- It generally supports a single shared value for every instance of class even if there is no instance object present in the class.\n",
    "- It is usually defined whenever we begin the execution of the program.\n",
    "- It generally recollects the values until the program ends.\n",
    "- It has only one replica of the class variable, so it is shared between various class objects.\n",
    "- We can access these variables by calling with the class name.\n",
    "- We have to declare these variables with the help of the static keyboard.\n",
    "- Whatever alterations we made to these variables via one object will be replicated in another object."
   ]
  },
  {
   "cell_type": "code",
   "execution_count": 5,
   "id": "08082946",
   "metadata": {},
   "outputs": [
    {
     "name": "stdout",
     "output_type": "stream",
     "text": [
      "Name of the Animal: Lion\n",
      "This Animal is found in: Jungle\n",
      "This Animal is a: Carnivore\n",
      "Population of this Animal: 20000 approx.\n"
     ]
    }
   ],
   "source": [
    "# defining a class  \n",
    "class Animal:  \n",
    "    # declaring some class variables  \n",
    "    Terrestrial = \"Lion\"  \n",
    "    Location = \"Jungle\"  \n",
    "    Type = \"Carnivore\"  \n",
    "    Population = 20000  \n",
    "# instantiating the class  \n",
    "my_Animal = Animal()  \n",
    "# printing the values  \n",
    "print(\"Name of the Animal:\", my_Animal.Terrestrial)  \n",
    "print(\"This Animal is found in:\", my_Animal.Location)  \n",
    "print(\"This Animal is a:\", my_Animal.Type)  \n",
    "print(\"Population of this Animal:\", my_Animal.Population, \"approx.\")  "
   ]
  },
  {
   "cell_type": "markdown",
   "id": "26b65509",
   "metadata": {},
   "source": [
    "### Instance variables\n",
    "\n",
    "- An instance variable is a variable whose value is specified to the Instance and shared among different instances.\n",
    "- We cannot share these variables between classes. However, they only fit in a particular class.\n",
    "- It generally stores memory for data required by the class.\n",
    "- It is usually defined whenever we create an instance of the class.\n",
    "- It generally recollects the values as long as the object exists.\n",
    "- It has multiple replicas, so each object has its replica of the instance variable.\n",
    "- We can access these variables directly by calling variable names within the class.\n",
    "- We have to declare these variables without utilizing the static keyword.\n",
    "- Whatever alterations we made to these variables via one object will not be replicated in another object."
   ]
  },
  {
   "cell_type": "code",
   "execution_count": 6,
   "id": "36ac80bc",
   "metadata": {},
   "outputs": [
    {
     "name": "stdout",
     "output_type": "stream",
     "text": [
      "Roll Number of the Student: 102\n",
      "Name of the Student: Sam\n",
      "Age of the Student: 13\n"
     ]
    }
   ],
   "source": [
    "# defining the class  \n",
    "class Student:  \n",
    "    # using the initializing function  \n",
    "    def __init__(self, id, name, age):  \n",
    "        self.id = id  \n",
    "        self.name = name  \n",
    "        self.age = age  \n",
    "  \n",
    "#  instantiating the class  \n",
    "dBase = Student(102, \"Sam\", 13)  \n",
    "# printing the required values  \n",
    "print(\"Roll Number of the Student:\", dBase.id)  \n",
    "print(\"Name of the Student:\", dBase.name)  \n",
    "print(\"Age of the Student:\", dBase.age)  "
   ]
  },
  {
   "cell_type": "markdown",
   "id": "3eb3f41c",
   "metadata": {},
   "source": [
    "# 6. What is the purpose of the self parameter in Python class methods?"
   ]
  },
  {
   "cell_type": "markdown",
   "id": "1b1c2d72",
   "metadata": {},
   "source": [
    "self represents the instance of the class. By using the “self” we can access the attributes and methods of the class in python. It binds the attributes with the given arguments. The reason we need to use self. is because Python does not use the @ syntax to refer to instance attributes."
   ]
  },
  {
   "cell_type": "code",
   "execution_count": 7,
   "id": "b57b05b3",
   "metadata": {},
   "outputs": [
    {
     "name": "stdout",
     "output_type": "stream",
     "text": [
      "The reference id of the self method is:  1356601815392\n",
      "The reference id of the object is:  1356601815392\n"
     ]
    }
   ],
   "source": [
    "# Python program to show the use of the self keyword  \n",
    "    \n",
    "class Class:   \n",
    "    def __init__(self):   \n",
    "        print(\"The reference id of the self method is: \",id(self))   \n",
    "    \n",
    "# Creating an instance of the class  \n",
    "obj = Class()   \n",
    "print(\"The reference id of the object is: \",id(obj))  "
   ]
  },
  {
   "cell_type": "markdown",
   "id": "a23ec00e",
   "metadata": {},
   "source": [
    "# 7. For a library management system, you have to design the \"Book\" class with OOP principles in mind. The “Book” class will have following attributes:\n",
    "\n",
    "a. title: Represents the title of the book.\n",
    "\n",
    "b. author: Represents the author(s) of the book.\n",
    "\n",
    "c. isbn: Represents the ISBN (International Standard Book Number) of the book.\n",
    "\n",
    "d. publication_year: Represents the year of publication of the book.\n",
    "\n",
    "e. available_copies: Represents the number of copies available for checkout.\n",
    "\n",
    "The class will also include the following methods:\n",
    "\n",
    "a. check_out(self): Decrements the available copies by one if there are copies\n",
    "available for checkout.\n",
    "\n",
    "b. return_book(self): Increments the available copies by one when a book is\n",
    "returned.\n",
    "\n",
    "c. display_book_info(self): Displays the information about the book, including its\n",
    "attributes and the number of available copies."
   ]
  },
  {
   "cell_type": "code",
   "execution_count": 35,
   "id": "dcf76ab4",
   "metadata": {},
   "outputs": [],
   "source": [
    "class Book :\n",
    "    \n",
    "    def __init__(self, title, author, isbn, publication_year, available_copies) :\n",
    "            \n",
    "        self.title = title\n",
    "        self.author = author\n",
    "        self.isbn = isbn\n",
    "        self.publication_year = publication_year\n",
    "        self.available_copies = available_copies\n",
    "            \n",
    "    def check_out(self) :\n",
    "        \n",
    "        if self.available_copies > 0 :\n",
    "            self.available_copies -= 1\n",
    "            print(f'Availabe copies : {self.available_copies}')\n",
    "        else :\n",
    "            print('Out of stock')\n",
    "    \n",
    "    def return_book(self) :\n",
    "        \n",
    "        self.available_copies += 1\n",
    "        print(f'Present available copies : {self.available_copies}')\n",
    "    \n",
    "    def display_book_info(self) :\n",
    "        \n",
    "        print(f'Book information :  {self.title} , {self.author} , {self.isbn} , {self.publication_year} , {self.available_copies}')\n",
    "    \n",
    "book1 = Book('The secret', 'Rhonda Byrne', 23456, 2023, 5)"
   ]
  },
  {
   "cell_type": "code",
   "execution_count": 36,
   "id": "076f9195",
   "metadata": {},
   "outputs": [
    {
     "name": "stdout",
     "output_type": "stream",
     "text": [
      "Availabe copies : 4\n"
     ]
    }
   ],
   "source": [
    "book1.check_out()"
   ]
  },
  {
   "cell_type": "code",
   "execution_count": 37,
   "id": "78105184",
   "metadata": {},
   "outputs": [
    {
     "name": "stdout",
     "output_type": "stream",
     "text": [
      "Present available copies : 5\n"
     ]
    }
   ],
   "source": [
    "book1.return_book()"
   ]
  },
  {
   "cell_type": "code",
   "execution_count": 38,
   "id": "72dec83f",
   "metadata": {},
   "outputs": [
    {
     "name": "stdout",
     "output_type": "stream",
     "text": [
      "Book information :  The secret , Rhonda Byrne , 23456 , 2023 , 5\n"
     ]
    }
   ],
   "source": [
    "book1.display_book_info()"
   ]
  },
  {
   "cell_type": "markdown",
   "id": "0426a6ec",
   "metadata": {},
   "source": [
    "# 8. For a ticket booking system, you have to design the \"Ticket\" class with OOP principles in mind. The “Ticket” class should have the following attributes:\n",
    "\n",
    "a. ticket_id: Represents the unique identifier for the ticket.\n",
    "\n",
    "b. event_name: Represents the name of the event.\n",
    "\n",
    "c. event_date: Represents the date of the event.\n",
    "\n",
    "d. venue: Represents the venue of the event.\n",
    "\n",
    "e. seat_number: Represents the seat number associated with the ticket.\n",
    "\n",
    "f. price: Represents the price of the ticket.\n",
    "\n",
    "g. is_reserved: Represents the reservation status of the ticket.\n",
    "\n",
    "The class also includes the following methods:\n",
    "\n",
    "a. reserve_ticket(self): Marks the ticket as reserved if it is not already reserved.\n",
    "\n",
    "b. cancel_reservation(self): Cancels the reservation of the ticket if it is already\n",
    "reserved.\n",
    "\n",
    "c. display_ticket_info(self): Displays the information about the ticket, including its\n",
    "attributes and reservation status."
   ]
  },
  {
   "cell_type": "code",
   "execution_count": 45,
   "id": "8d329c25",
   "metadata": {},
   "outputs": [],
   "source": [
    "class Ticket :\n",
    "    \n",
    "    def __init__(self, ticket_id, event_name, event_date, venue, seat_number, price, is_reserved) :\n",
    "        \n",
    "        self.ticket_id = ticket_id\n",
    "        self.event_name = event_name\n",
    "        self.event_date = event_date\n",
    "        self.venue = venue\n",
    "        self.seat_number = seat_number\n",
    "        self.price = price\n",
    "        self.is_reserved = is_reserved\n",
    "        \n",
    "    def reserved_ticket (self) :\n",
    "        \n",
    "        if self.is_reserved == 'No' :\n",
    "            self.is_reserved = 'Yes'\n",
    "            print('The ticket got reserved')\n",
    "        \n",
    "        else :\n",
    "            print('Already reserved')\n",
    "    \n",
    "    def cancel_reservation (self) :\n",
    "        \n",
    "        if self.is_reserved == 'Yes' :\n",
    "            \n",
    "            self.is_reserved = 'No'\n",
    "            print('Reservation got canceled')\n",
    "            \n",
    "        else :\n",
    "            print('Not reserved')\n",
    "            \n",
    "    def display_ticket_info (self) :\n",
    "        \n",
    "        return f'The ticket information :- Ticket_id : {self.ticket_id} , Event_name : {self.event_name}, Event_date : {self.event_date}, Venue  : {self.venue}, Seat_number : {self.seat_number}, Price : {self.price} , Is_reserved : {self.is_reserved}'\n",
    "\n",
    "ticket1 = Ticket(1, 'Function', '1-05-2023', 'Mumbai', 23, 890, 'Yes')\n",
    "ticket2 = Ticket(2, 'Meeting', '3-05-2023', 'Mumbai', 26, 890, 'No')\n",
    "ticket3 = Ticket(3, 'Sports meet', '2-05-2023', 'Mumbai', 24, 890, 'Yes')"
   ]
  },
  {
   "cell_type": "code",
   "execution_count": 46,
   "id": "ba43fa14",
   "metadata": {},
   "outputs": [
    {
     "name": "stdout",
     "output_type": "stream",
     "text": [
      "Already reserved\n"
     ]
    }
   ],
   "source": [
    "ticket1.reserved_ticket()"
   ]
  },
  {
   "cell_type": "code",
   "execution_count": 47,
   "id": "669a4f5a",
   "metadata": {},
   "outputs": [
    {
     "name": "stdout",
     "output_type": "stream",
     "text": [
      "Not reserved\n"
     ]
    }
   ],
   "source": [
    "ticket2.cancel_reservation()"
   ]
  },
  {
   "cell_type": "code",
   "execution_count": 48,
   "id": "ef541b05",
   "metadata": {},
   "outputs": [
    {
     "data": {
      "text/plain": [
       "'The ticket information :- Ticket_id : 3 , Event_name : Sports meet, Event_date : 2-05-2023, Venue  : Mumbai, Seat_number : 24, Price : 890 , Is_reserved : Yes'"
      ]
     },
     "execution_count": 48,
     "metadata": {},
     "output_type": "execute_result"
    }
   ],
   "source": [
    "ticket3.display_ticket_info()"
   ]
  },
  {
   "cell_type": "markdown",
   "id": "1d5962df",
   "metadata": {},
   "source": [
    "# 9. You are creating a shopping cart for an e-commerce website. Using OOP to model the \"ShoppingCart\" functionality the class should contain following attributes and methods:\n",
    "\n",
    "a. items: Represents the list of items in the shopping cart.\n",
    "\n",
    "The class also includes the following methods:\n",
    "\n",
    "a. add_item(self, item): Adds an item to the shopping cart by appending it to the\n",
    "list of items.\n",
    "\n",
    "b. remove_item(self, item): Removes an item from the shopping cart if it exists in\n",
    "the list.\n",
    "\n",
    "c. view_cart(self): Displays the items currently present in the shopping cart.\n",
    "\n",
    "d. clear_cart(self): Clears all items from the shopping cart by reassigning an\n",
    "empty list to the items attribute."
   ]
  },
  {
   "cell_type": "code",
   "execution_count": 64,
   "id": "0695de29",
   "metadata": {},
   "outputs": [],
   "source": [
    "class ShoppingCart :\n",
    "    \n",
    "    def __init__(self, items) :\n",
    "        \n",
    "        self.items = items \n",
    "        \n",
    "    def add_item (self, item) :\n",
    "        \n",
    "        self.items.append(item)\n",
    "        return self.items\n",
    "    \n",
    "    def remove_item (self,item) :\n",
    "        \n",
    "        self.items.remove(item)\n",
    "        return self.items\n",
    "        \n",
    "    def clear_cart (self) :\n",
    "        \n",
    "        self.items.clear()\n",
    "        return f'List : {self.items}'\n",
    "\n",
    "items = ['Apple', 'Orange', 'Grapes', 'Pineapple', 'Blueberry']\n",
    "shopping_cart = ShoppingCart(items)"
   ]
  },
  {
   "cell_type": "code",
   "execution_count": 65,
   "id": "98febf53",
   "metadata": {},
   "outputs": [
    {
     "data": {
      "text/plain": [
       "['Apple', 'Orange', 'Grapes', 'Pineapple', 'Blueberry', 'Mango']"
      ]
     },
     "execution_count": 65,
     "metadata": {},
     "output_type": "execute_result"
    }
   ],
   "source": [
    "shopping_cart.add_item('Mango')"
   ]
  },
  {
   "cell_type": "code",
   "execution_count": 66,
   "id": "070ad525",
   "metadata": {},
   "outputs": [
    {
     "data": {
      "text/plain": [
       "['Apple', 'Orange', 'Pineapple', 'Blueberry', 'Mango']"
      ]
     },
     "execution_count": 66,
     "metadata": {},
     "output_type": "execute_result"
    }
   ],
   "source": [
    "shopping_cart.remove_item('Grapes')"
   ]
  },
  {
   "cell_type": "code",
   "execution_count": 67,
   "id": "2bb4f018",
   "metadata": {},
   "outputs": [
    {
     "data": {
      "text/plain": [
       "'List : []'"
      ]
     },
     "execution_count": 67,
     "metadata": {},
     "output_type": "execute_result"
    }
   ],
   "source": [
    "shopping_cart.clear_cart()"
   ]
  },
  {
   "cell_type": "markdown",
   "id": "38acc2e2",
   "metadata": {},
   "source": [
    "# 10. Imagine a school management system. You have to design the \"Student\" class using OOP concepts.The “Student” class has the following attributes:\n",
    "\n",
    "a. name: Represents the name of the student.\n",
    "\n",
    "b. age: Represents the age of the student.\n",
    "\n",
    "c. grade: Represents the grade or class of the student.\n",
    "\n",
    "d. student_id: Represents the unique identifier for the student.\n",
    "\n",
    "e. attendance: Represents the attendance record of the student.\n",
    "\n",
    "The class should also include the following methods:\n",
    "\n",
    "a. update_attendance(self, date, status): Updates the attendance record of the student for a given date with the provided status (e.g., present or absent).\n",
    "\n",
    "b. get_attendance(self): Returns the attendance record of the student.\n",
    "\n",
    "c. get_average_attendance(self): Calculates and returns the average\n",
    "attendance percentage of the student based on their attendance record."
   ]
  },
  {
   "cell_type": "code",
   "execution_count": 21,
   "id": "0fb35748",
   "metadata": {},
   "outputs": [],
   "source": [
    "class Student :\n",
    "    \n",
    "   \n",
    "    \n",
    "    def __init__(self, name, age, grade, student_id, attendance) :\n",
    "        \n",
    "        self.name = name\n",
    "        self.age = age\n",
    "        self.grade = grade\n",
    "        self.student_id = student_id\n",
    "        self.attendance = attendance\n",
    "        self.dates = date\n",
    "        self.status = status\n",
    "        self.count_days = count_days\n",
    "        self.attendanceAverage = attendanceAverage \n",
    "    \n",
    "    def update_attendance (self, date, status) :\n",
    "        \n",
    "        self.dates.append(date)\n",
    "        self.status.append(status)\n",
    "        \n",
    "        return self.dates, self.status\n",
    "    \n",
    "    def get_attendance (self) :\n",
    "        \n",
    "        print(date)\n",
    "        print(status)\n",
    "        \n",
    "                \n",
    "    def get_average_attendance (self) :\n",
    "        \n",
    "        self.count = 0\n",
    "        total_days = len(date)\n",
    "        \n",
    "        for i in status :\n",
    "            if i == 'Present' :\n",
    "                self.count += 1\n",
    "        print('Average attendance : ', (self.count/total_days) * 100)\n",
    "    \n",
    "        \n",
    "\n",
    "date = ['23-04-2023', '24-04-2023', '25-04-2023','26-04-2023','27-04-2023']\n",
    "status = ['Present','Present', 'Absent', 'Present','Present']\n",
    "count = 0\n",
    "student1 = Student('Jeevz', 28, 'A', 23, 0)"
   ]
  },
  {
   "cell_type": "code",
   "execution_count": 22,
   "id": "89275428",
   "metadata": {},
   "outputs": [
    {
     "data": {
      "text/plain": [
       "(['23-04-2023',\n",
       "  '24-04-2023',\n",
       "  '25-04-2023',\n",
       "  '26-04-2023',\n",
       "  '27-04-2023',\n",
       "  '28-04-2023'],\n",
       " ['Present', 'Present', 'Absent', 'Present', 'Present', 'Absent'])"
      ]
     },
     "execution_count": 22,
     "metadata": {},
     "output_type": "execute_result"
    }
   ],
   "source": [
    "student1.update_attendance('28-04-2023', 'Absent')"
   ]
  },
  {
   "cell_type": "code",
   "execution_count": 23,
   "id": "4834b1b9",
   "metadata": {},
   "outputs": [
    {
     "name": "stdout",
     "output_type": "stream",
     "text": [
      "['23-04-2023', '24-04-2023', '25-04-2023', '26-04-2023', '27-04-2023', '28-04-2023']\n",
      "['Present', 'Present', 'Absent', 'Present', 'Present', 'Absent']\n"
     ]
    }
   ],
   "source": [
    "student1.get_attendance()"
   ]
  },
  {
   "cell_type": "code",
   "execution_count": 24,
   "id": "df0dddc0",
   "metadata": {},
   "outputs": [
    {
     "name": "stdout",
     "output_type": "stream",
     "text": [
      "Average attendance :  66.66666666666666\n"
     ]
    }
   ],
   "source": [
    "student1.get_average_attendance()"
   ]
  }
 ],
 "metadata": {
  "kernelspec": {
   "display_name": "Python 3 (ipykernel)",
   "language": "python",
   "name": "python3"
  },
  "language_info": {
   "codemirror_mode": {
    "name": "ipython",
    "version": 3
   },
   "file_extension": ".py",
   "mimetype": "text/x-python",
   "name": "python",
   "nbconvert_exporter": "python",
   "pygments_lexer": "ipython3",
   "version": "3.10.9"
  }
 },
 "nbformat": 4,
 "nbformat_minor": 5
}

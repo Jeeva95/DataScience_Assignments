{
 "cells": [
  {
   "cell_type": "markdown",
   "id": "19df8642",
   "metadata": {},
   "source": [
    "# 1. What does an empty dictionary&#39;s code look like?"
   ]
  },
  {
   "cell_type": "markdown",
   "id": "37a53bcc",
   "metadata": {},
   "source": [
    "An empty pair of curly braces {} is an empty dictionary, just like an empty pair of [] is an empty list."
   ]
  },
  {
   "cell_type": "code",
   "execution_count": 1,
   "id": "ac383cdf",
   "metadata": {},
   "outputs": [
    {
     "data": {
      "text/plain": [
       "dict"
      ]
     },
     "execution_count": 1,
     "metadata": {},
     "output_type": "execute_result"
    }
   ],
   "source": [
    "dict = {}\n",
    "type(dict)"
   ]
  },
  {
   "cell_type": "markdown",
   "id": "05149de3",
   "metadata": {},
   "source": [
    "# 2. What is the value of a dictionary value with the key &#39;foo&#39; and the value 42?"
   ]
  },
  {
   "cell_type": "code",
   "execution_count": 2,
   "id": "92003ed6",
   "metadata": {},
   "outputs": [
    {
     "name": "stdout",
     "output_type": "stream",
     "text": [
      "{'foo': 42}\n"
     ]
    }
   ],
   "source": [
    "temp = {'foo' : 42}\n",
    "print(temp)"
   ]
  },
  {
   "cell_type": "markdown",
   "id": "38b9336f",
   "metadata": {},
   "source": [
    "# 3. What is the most significant distinction between a dictionary and a list?"
   ]
  },
  {
   "cell_type": "markdown",
   "id": "eadd4099",
   "metadata": {},
   "source": [
    "**List**\n",
    "\n",
    "- List is a collection of index values pairs as that of array in c++.\n",
    "\n",
    "- List is created by placing elements in [ ] separated by commas \",\".\n",
    "\n",
    "- The indices of list are integers starting from 0.\n",
    "\n",
    "- The elements are accessed via indices.\n",
    "\n",
    "- The order of the elements entered are maintained."
   ]
  },
  {
   "cell_type": "markdown",
   "id": "96f64b1e",
   "metadata": {},
   "source": [
    "**Dictionary**\n",
    "\n",
    "- Dictionary is a hashed structure of key and value pairs.\n",
    "\n",
    "- Dictionary is created by placing elements in { } as “key”:”value”, each key value pair is separated by commas \",\".\n",
    "\n",
    "- The keys of dictionary can be of any data type.\n",
    "\n",
    "- The elements are accessed via key-values.\n",
    "\n",
    "- There is no guarantee for maintaining order."
   ]
  },
  {
   "cell_type": "markdown",
   "id": "325a77ce",
   "metadata": {},
   "source": [
    "# 4. What happens if you try to access spam[&#39;foo&#39;] if spam is {&#39;bar&#39;: 100}?"
   ]
  },
  {
   "cell_type": "markdown",
   "id": "2151b0e1",
   "metadata": {},
   "source": [
    "You will get a KeyError error."
   ]
  },
  {
   "cell_type": "code",
   "execution_count": 3,
   "id": "b732b397",
   "metadata": {},
   "outputs": [
    {
     "ename": "KeyError",
     "evalue": "'foo'",
     "output_type": "error",
     "traceback": [
      "\u001b[1;31m---------------------------------------------------------------------------\u001b[0m",
      "\u001b[1;31mKeyError\u001b[0m                                  Traceback (most recent call last)",
      "Cell \u001b[1;32mIn[3], line 2\u001b[0m\n\u001b[0;32m      1\u001b[0m spam \u001b[38;5;241m=\u001b[39m {\u001b[38;5;124m'\u001b[39m\u001b[38;5;124mbar\u001b[39m\u001b[38;5;124m'\u001b[39m:\u001b[38;5;241m100\u001b[39m}\n\u001b[1;32m----> 2\u001b[0m \u001b[43mspam\u001b[49m\u001b[43m[\u001b[49m\u001b[38;5;124;43m'\u001b[39;49m\u001b[38;5;124;43mfoo\u001b[39;49m\u001b[38;5;124;43m'\u001b[39;49m\u001b[43m]\u001b[49m\n",
      "\u001b[1;31mKeyError\u001b[0m: 'foo'"
     ]
    }
   ],
   "source": [
    "spam = {'bar':100}\n",
    "spam['foo']\n",
    "#This will give us key error"
   ]
  },
  {
   "cell_type": "markdown",
   "id": "28585738",
   "metadata": {},
   "source": [
    "# 5. If a dictionary is stored in spam, what is the difference between the expressions &#39;cat&#39; in spam and &#39;cat&#39; in spam.keys()?"
   ]
  },
  {
   "cell_type": "markdown",
   "id": "559004a1",
   "metadata": {},
   "source": [
    "There is no difference, the expression \" 'cat' in spam \", both checks whether 'cat' is a key in spam and return True."
   ]
  },
  {
   "cell_type": "code",
   "execution_count": 4,
   "id": "007e8fe1",
   "metadata": {},
   "outputs": [
    {
     "data": {
      "text/plain": [
       "True"
      ]
     },
     "execution_count": 4,
     "metadata": {},
     "output_type": "execute_result"
    }
   ],
   "source": [
    "spam ={'cat':100}\n",
    "'cat' in spam"
   ]
  },
  {
   "cell_type": "code",
   "execution_count": 5,
   "id": "399bfb0c",
   "metadata": {},
   "outputs": [
    {
     "data": {
      "text/plain": [
       "True"
      ]
     },
     "execution_count": 5,
     "metadata": {},
     "output_type": "execute_result"
    }
   ],
   "source": [
    "'cat' in spam.keys()"
   ]
  },
  {
   "cell_type": "markdown",
   "id": "3d80434c",
   "metadata": {},
   "source": [
    "# 6. If a dictionary is stored in spam, what is the difference between the expressions &#39;cat&#39; in spam and &#39;cat&#39; in spam.values()?"
   ]
  },
  {
   "cell_type": "markdown",
   "id": "4508fe8a",
   "metadata": {},
   "source": [
    "There is no difference. The in operator checks whether a value exists as a key in the dictionary. 'cat' in spam checks whether there is a 'cat' key in the dictionary, while 'cat' in spam. values() checks whether there is a value 'cat' for one of the keys in spam ."
   ]
  },
  {
   "cell_type": "code",
   "execution_count": 6,
   "id": "387bfab7",
   "metadata": {},
   "outputs": [
    {
     "data": {
      "text/plain": [
       "True"
      ]
     },
     "execution_count": 6,
     "metadata": {},
     "output_type": "execute_result"
    }
   ],
   "source": [
    "spam ={'cat':100}\n",
    "'cat' in spam"
   ]
  },
  {
   "cell_type": "code",
   "execution_count": 7,
   "id": "311a78b2",
   "metadata": {},
   "outputs": [
    {
     "data": {
      "text/plain": [
       "False"
      ]
     },
     "execution_count": 7,
     "metadata": {},
     "output_type": "execute_result"
    }
   ],
   "source": [
    "spam ={'cat':100}\n",
    "'cat' in spam.values()"
   ]
  },
  {
   "cell_type": "markdown",
   "id": "c2483422",
   "metadata": {},
   "source": [
    "# 7. What is a shortcut for the following code?\n",
    "\n",
    "if &#39;color&#39; not in spam:\n",
    "\n",
    "spam[&#39;color&#39;] = &#39;black&#39;"
   ]
  },
  {
   "cell_type": "code",
   "execution_count": 8,
   "id": "b768ac95",
   "metadata": {},
   "outputs": [
    {
     "data": {
      "text/plain": [
       "{'cat': 100, 'color': 'black'}"
      ]
     },
     "execution_count": 8,
     "metadata": {},
     "output_type": "execute_result"
    }
   ],
   "source": [
    "spam ={'cat':100}\n",
    "spam.setdefault('color','black')\n",
    "spam"
   ]
  },
  {
   "cell_type": "markdown",
   "id": "518b6cd5",
   "metadata": {},
   "source": [
    "# 8. How do you &quot;pretty print&quot; dictionary values using which module and function?"
   ]
  },
  {
   "cell_type": "markdown",
   "id": "bd0bb9cf",
   "metadata": {},
   "source": [
    "The module is pprint.\n",
    "\n",
    "The functions are pprint.pprint() and pprint.pformat()."
   ]
  },
  {
   "cell_type": "code",
   "execution_count": 9,
   "id": "304a333e",
   "metadata": {},
   "outputs": [
    {
     "name": "stdout",
     "output_type": "stream",
     "text": [
      "[{'Serial_No': '123', 'Gender': 'M', 'Class_Attended': 'English', 'Class_section': '7-D'}, {'Serial_No': '546', 'Gender': 'U', 'Class_Attended': 'Mathematics', 'Class_section': '5-D'}, {'Serial_No': '456', 'Gender': 'F', 'Class_Attended': 'English', 'Class_section': '7-H'}, {'Serial_No': '876', 'Gender': 'F', 'Class_Attended': 'English', 'Class_section': '10-A'}, {'Serial_No': '343', 'Gender': 'M', 'Class_Attended': 'Hindi', 'Class_section': '3-G'}]\n",
      "Case 1: Using the print function to print the array of the dictionary .\n",
      "[{'Serial_No': '123', 'Gender': 'M', 'Class_Attended': 'English', 'Class_section': '7-D'}, {'Serial_No': '546', 'Gender': 'U', 'Class_Attended': 'Mathematics', 'Class_section': '5-D'}, {'Serial_No': '456', 'Gender': 'F', 'Class_Attended': 'English', 'Class_section': '7-H'}, {'Serial_No': '876', 'Gender': 'F', 'Class_Attended': 'English', 'Class_section': '10-A'}, {'Serial_No': '343', 'Gender': 'M', 'Class_Attended': 'Hindi', 'Class_section': '3-G'}]\n",
      "Case 2: Using pprint function to print the array of a dictionary .\n",
      "[{'Class_Attended': 'English',\n",
      "  'Class_section': '7-D',\n",
      "  'Gender': 'M',\n",
      "  'Serial_No': '123'},\n",
      " {'Class_Attended': 'Mathematics',\n",
      "  'Class_section': '5-D',\n",
      "  'Gender': 'U',\n",
      "  'Serial_No': '546'},\n",
      " {'Class_Attended': 'English',\n",
      "  'Class_section': '7-H',\n",
      "  'Gender': 'F',\n",
      "  'Serial_No': '456'},\n",
      " {'Class_Attended': 'English',\n",
      "  'Class_section': '10-A',\n",
      "  'Gender': 'F',\n",
      "  'Serial_No': '876'},\n",
      " {'Class_Attended': 'Hindi',\n",
      "  'Class_section': '3-G',\n",
      "  'Gender': 'M',\n",
      "  'Serial_No': '343'}]\n"
     ]
    }
   ],
   "source": [
    "# Using pprint()\n",
    "# We first import the pprint module as shown below.\n",
    "import pprint\n",
    "\n",
    "# array of dictionary \n",
    "dict_array_1 = [\n",
    "  {'Serial_No': '123', 'Gender': 'M', 'Class_Attended': 'English', 'Class_section': '7-D' },\n",
    "  {'Serial_No': '546', 'Gender': 'U', 'Class_Attended': 'Mathematics', 'Class_section': '5-D' },\n",
    "  {'Serial_No': '456', 'Gender': 'F', 'Class_Attended': 'English', 'Class_section': '7-H' },\n",
    "  {'Serial_No': '876', 'Gender': 'F', 'Class_Attended': 'English', 'Class_section': '10-A'},\n",
    "  {'Serial_No': '343', 'Gender': 'M', 'Class_Attended': 'Hindi', 'Class_section': '3-G'}\n",
    "]\n",
    "# an array of dictionaries where we have unique keys with values that include strings and lists.\n",
    "\n",
    "# printing the array of  dictionary\n",
    "print(dict_array_1)\n",
    "\n",
    "print(\"Case 1: Using the print function to print the array of the dictionary .\")\n",
    "\n",
    "# creating a variable named pretty_print_1 where we are implementing the pprint method to pretty print dict python\n",
    "print(dict_array_1)\n",
    "\n",
    "print(\"Case 2: Using pprint function to print the array of a dictionary .\")\n",
    "\n",
    "# creating a variable named pretty_print_1 where we are implementing the pprint method to pretty print dict python\n",
    "pretty_print_1 = pprint.pprint(dict_array_1)"
   ]
  }
 ],
 "metadata": {
  "kernelspec": {
   "display_name": "Python 3 (ipykernel)",
   "language": "python",
   "name": "python3"
  },
  "language_info": {
   "codemirror_mode": {
    "name": "ipython",
    "version": 3
   },
   "file_extension": ".py",
   "mimetype": "text/x-python",
   "name": "python",
   "nbconvert_exporter": "python",
   "pygments_lexer": "ipython3",
   "version": "3.10.9"
  }
 },
 "nbformat": 4,
 "nbformat_minor": 5
}

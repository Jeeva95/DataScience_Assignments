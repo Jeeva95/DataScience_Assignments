{
 "cells": [
  {
   "cell_type": "markdown",
   "id": "dc68d374",
   "metadata": {},
   "source": [
    "# 1. In the below elements which of them are values or an expression? eg :- values can be integer or string and expressions will be mathematical operators.\n",
    " *\n",
    " \n",
    " 'hello'\n",
    " \n",
    " -87.8\n",
    " \n",
    " -\n",
    " \n",
    " /\n",
    " \n",
    " 6"
   ]
  },
  {
   "cell_type": "markdown",
   "id": "eb6f0e55",
   "metadata": {},
   "source": [
    "**Expression** \n",
    "\n",
    "- A combination of operands and operators is called an expression. \n",
    "- A python expression describes a computational or operation performed on a data. \n",
    "- The expression in python produces some value or result after being interpreted by the python interpreter. "
   ]
  },
  {
   "cell_type": "code",
   "execution_count": 1,
   "id": "d85fdf07",
   "metadata": {},
   "outputs": [
    {
     "name": "stdout",
     "output_type": "stream",
     "text": [
      "35\n"
     ]
    }
   ],
   "source": [
    "x = 25 # statement\n",
    "x += 10 # expression\n",
    "print(x)"
   ]
  },
  {
   "cell_type": "markdown",
   "id": "8a1dc0ce",
   "metadata": {},
   "source": [
    "**Values**\n",
    "\n",
    "- A value maybe a character ie; 'hello world' or a number like 1, 1.2, 3.5 etc. \n",
    "- Values belong to different data types integer, float, string etc."
   ]
  },
  {
   "cell_type": "markdown",
   "id": "b2818159",
   "metadata": {},
   "source": [
    "      *            -              Expression\n",
    "    'hello'        -                value\n",
    "     -87.8         -                value\n",
    "     -             -              Expression\n",
    "     /             -              Expression\n",
    "     +             -              Expression\n",
    "     6             -                value"
   ]
  },
  {
   "cell_type": "markdown",
   "id": "69de9f9c",
   "metadata": {},
   "source": [
    "# 2. What is the difference between a string and variable?"
   ]
  },
  {
   "cell_type": "markdown",
   "id": "e2d5776b",
   "metadata": {},
   "source": [
    "**String**\n",
    "\n",
    "- A string is a collection of characters enclose with in single ' or double \" quotation marks.\n",
    "- A string is a sequence data type."
   ]
  },
  {
   "cell_type": "code",
   "execution_count": 3,
   "id": "ec01e14c",
   "metadata": {},
   "outputs": [
    {
     "name": "stdout",
     "output_type": "stream",
     "text": [
      "John Deo <class 'str'>\n"
     ]
    }
   ],
   "source": [
    "# Initializing a string\n",
    "name = 'John Deo'\n",
    "print(name, type(name))"
   ]
  },
  {
   "cell_type": "markdown",
   "id": "f15c5ca8",
   "metadata": {},
   "source": [
    "**Variable**\n",
    "\n",
    "- A variable is a name to which any value can be assigned.\n",
    "- We can think of them as an empty box that you wiil fill with some data or value.\n",
    "- A variable can be a type of integer or string or boolean etc."
   ]
  },
  {
   "cell_type": "code",
   "execution_count": 4,
   "id": "0bdfddc0",
   "metadata": {},
   "outputs": [
    {
     "name": "stdout",
     "output_type": "stream",
     "text": [
      "<class 'str'>\n"
     ]
    }
   ],
   "source": [
    "# Initializing a string type variabe.\n",
    "name = 'John deo'\n",
    "print(type(name))"
   ]
  },
  {
   "cell_type": "code",
   "execution_count": 5,
   "id": "3a7fe9e5",
   "metadata": {},
   "outputs": [
    {
     "name": "stdout",
     "output_type": "stream",
     "text": [
      "<class 'int'>\n"
     ]
    }
   ],
   "source": [
    "# Initializing a integer type variable.\n",
    "num = 34\n",
    "print(type(num))"
   ]
  },
  {
   "cell_type": "markdown",
   "id": "4938aa04",
   "metadata": {},
   "source": [
    "# 3. Describe three different data types."
   ]
  },
  {
   "cell_type": "markdown",
   "id": "422fbe8d",
   "metadata": {},
   "source": [
    "**1. Numeric data type**\n",
    "\n",
    "Numeric data type holds numeric values.\n",
    "- int - Holds signed integers of non-limited length.\n",
    "- float - Holds floating decimal points.\n",
    "- complex - Holds complex numbers."
   ]
  },
  {
   "cell_type": "code",
   "execution_count": 6,
   "id": "c835e084",
   "metadata": {},
   "outputs": [
    {
     "name": "stdout",
     "output_type": "stream",
     "text": [
      "5 is of type <class 'int'>\n",
      "2.0 is of type <class 'float'>\n",
      "(1+2j) is of type <class 'complex'>\n"
     ]
    }
   ],
   "source": [
    "num1 = 5 \n",
    "print(num1, 'is of type', type(num1))\n",
    "num2 = 2.0\n",
    "print(num2, 'is of type', type(num2))\n",
    "num3 = 1+2j\n",
    "print(num3, 'is of type', type(num3))"
   ]
  },
  {
   "cell_type": "markdown",
   "id": "6b7468f4",
   "metadata": {},
   "source": [
    "**2. Sequence data type**\n",
    "\n",
    "Holds collection of items.\n",
    "\n",
    "- List - It is an oredered collection of similar or different types of items seperated by commas and enclosed with in brackets [].\n",
    "- Tuple - It is an ordered collection of items as a list. The only difference is that tuple are immutable. Tuple once created cannot be modified.\n",
    "- range - It returns a sequence of numbers between the given range. "
   ]
  },
  {
   "cell_type": "code",
   "execution_count": 7,
   "id": "96ca5a4b",
   "metadata": {},
   "outputs": [
    {
     "name": "stdout",
     "output_type": "stream",
     "text": [
      "<class 'list'>\n",
      "<class 'tuple'>\n",
      "range(0, 5)\n"
     ]
    }
   ],
   "source": [
    "list1 = ['Java', 'Python', 'Swift']\n",
    "print(type(list1))\n",
    "tuple1 = ('Microsoft', 'Xbox', 49.99)\n",
    "print(type(tuple1))\n",
    "print(range(5))"
   ]
  },
  {
   "cell_type": "markdown",
   "id": "433c462c",
   "metadata": {},
   "source": [
    "**3. String data type**\n",
    "\n",
    "Hold sequence of characters represented by either single or double quotes."
   ]
  },
  {
   "cell_type": "code",
   "execution_count": 8,
   "id": "a94ca7c0",
   "metadata": {},
   "outputs": [
    {
     "name": "stdout",
     "output_type": "stream",
     "text": [
      "python <class 'str'>\n"
     ]
    }
   ],
   "source": [
    "name = 'python'\n",
    "print(name, type(name))"
   ]
  },
  {
   "cell_type": "markdown",
   "id": "1f57aa5f",
   "metadata": {},
   "source": [
    "# 4. What is an expression made up of ? What do all expressions do ?"
   ]
  },
  {
   "cell_type": "markdown",
   "id": "3822316d",
   "metadata": {},
   "source": [
    "- A expression is a combination of values, variables, operators and calls to functions.\n",
    "- Expression need to be evaluated.\n",
    "- If we ask python to print an expression, the interpreter evaluates the expression and displays the results."
   ]
  },
  {
   "cell_type": "code",
   "execution_count": 9,
   "id": "20486772",
   "metadata": {},
   "outputs": [
    {
     "name": "stdout",
     "output_type": "stream",
     "text": [
      "11\n"
     ]
    }
   ],
   "source": [
    "x = 5\n",
    "y = 6\n",
    "z = x + y\n",
    "print(z)"
   ]
  },
  {
   "cell_type": "markdown",
   "id": "4b41d850",
   "metadata": {},
   "source": [
    "# 5. This assignment statements, like spam = 10. What is the difference between an expression and a statement ?"
   ]
  },
  {
   "cell_type": "markdown",
   "id": "655c2cf0",
   "metadata": {},
   "source": [
    "**Expression**\n",
    "\n",
    "- Expression statement are used to compute and write a value.\n",
    "- An expression statement evaluates the expression list and calculates the value.\n",
    "- An expression is a combination of values, variables and operations.\n"
   ]
  },
  {
   "cell_type": "code",
   "execution_count": 1,
   "id": "3e2efad6",
   "metadata": {},
   "outputs": [
    {
     "name": "stdout",
     "output_type": "stream",
     "text": [
      "15\n"
     ]
    }
   ],
   "source": [
    "x = 5 # right hand of = is a expression statement.\n",
    "x = x + 10 # x = x+10 is a complete statement.\n",
    "print(x)"
   ]
  },
  {
   "cell_type": "markdown",
   "id": "69c223a9",
   "metadata": {},
   "source": [
    "**Statement**\n",
    "\n",
    "- Statement are everything that can make up a line (or several lines of python code). Note that expressions are statement as well.\n",
    "- A statement is an instruction that a python interpreter can execute.\n",
    "- Anything written in python is a statement. That is each line in a python script is a statement."
   ]
  },
  {
   "cell_type": "code",
   "execution_count": 2,
   "id": "f4e2061d",
   "metadata": {},
   "outputs": [
    {
     "name": "stdout",
     "output_type": "stream",
     "text": [
      "hello\n",
      "20\n"
     ]
    }
   ],
   "source": [
    "# Statement1\n",
    "print('hello')\n",
    "# Statement2\n",
    "x = 20\n",
    "#Statement3\n",
    "print(x)"
   ]
  },
  {
   "cell_type": "markdown",
   "id": "e1593453",
   "metadata": {},
   "source": [
    "# 6. After running the following code, what does the variable bacon contain ?\n",
    "\n",
    "bacon = 22\n",
    "\n",
    "bacon + 1"
   ]
  },
  {
   "cell_type": "markdown",
   "id": "bf8dee6f",
   "metadata": {},
   "source": [
    "- The bacon variable is set to 20.\n",
    "- The bacon+1 expression does not reassign the value in bacon (that would need an assognment statement bacon = bacon+1.\n",
    "- So the value bacon does not change."
   ]
  },
  {
   "cell_type": "code",
   "execution_count": 3,
   "id": "e6597795",
   "metadata": {},
   "outputs": [
    {
     "name": "stdout",
     "output_type": "stream",
     "text": [
      "new :  23\n",
      "bacon :  22\n"
     ]
    }
   ],
   "source": [
    "bacon = 22\n",
    "new = bacon+1\n",
    "print('new : ', new)\n",
    "print('bacon : ', bacon)"
   ]
  },
  {
   "cell_type": "markdown",
   "id": "81a2920c",
   "metadata": {},
   "source": [
    "# 7. What should the values of the following two terms be ?\n",
    "\n",
    "'spam'+'spamspam'\n",
    "\n",
    "'spam'*3"
   ]
  },
  {
   "cell_type": "code",
   "execution_count": 4,
   "id": "9bbce573",
   "metadata": {},
   "outputs": [
    {
     "data": {
      "text/plain": [
       "'spamspamspam'"
      ]
     },
     "execution_count": 4,
     "metadata": {},
     "output_type": "execute_result"
    }
   ],
   "source": [
    "'spam'+'spamspam'"
   ]
  },
  {
   "cell_type": "code",
   "execution_count": 5,
   "id": "289355b5",
   "metadata": {},
   "outputs": [
    {
     "data": {
      "text/plain": [
       "'spamspamspam'"
      ]
     },
     "execution_count": 5,
     "metadata": {},
     "output_type": "execute_result"
    }
   ],
   "source": [
    "'spam'*3"
   ]
  },
  {
   "cell_type": "markdown",
   "id": "ff69c49f",
   "metadata": {},
   "source": [
    "# 8. Why is eggs a valid variable name while 100 is invalid ?"
   ]
  },
  {
   "cell_type": "markdown",
   "id": "aad48a11",
   "metadata": {},
   "source": [
    "- A variable name must start with a letter or the underscore character.\n",
    "- A variable name cannot start with a number."
   ]
  },
  {
   "cell_type": "code",
   "execution_count": 6,
   "id": "75b984f1",
   "metadata": {},
   "outputs": [
    {
     "name": "stdout",
     "output_type": "stream",
     "text": [
      "10\n"
     ]
    }
   ],
   "source": [
    "eggs = 10\n",
    "print(eggs)"
   ]
  },
  {
   "cell_type": "code",
   "execution_count": 7,
   "id": "60a67c29",
   "metadata": {},
   "outputs": [
    {
     "ename": "SyntaxError",
     "evalue": "cannot assign to literal (939798116.py, line 1)",
     "output_type": "error",
     "traceback": [
      "\u001b[1;36m  File \u001b[1;32m\"C:\\Users\\DELL\\AppData\\Local\\Temp\\ipykernel_12632\\939798116.py\"\u001b[1;36m, line \u001b[1;32m1\u001b[0m\n\u001b[1;33m    100 = 'hundred'\u001b[0m\n\u001b[1;37m    ^\u001b[0m\n\u001b[1;31mSyntaxError\u001b[0m\u001b[1;31m:\u001b[0m cannot assign to literal\n"
     ]
    }
   ],
   "source": [
    "100 = 'hundred'\n",
    "print(100)"
   ]
  },
  {
   "cell_type": "markdown",
   "id": "7065a0db",
   "metadata": {},
   "source": [
    "# 9. What three functions can be used to get the integer, floating-point number, or string version of a value ?"
   ]
  },
  {
   "cell_type": "markdown",
   "id": "07d86655",
   "metadata": {},
   "source": [
    "- int() :- This function is used to get an integer value. It returns an expression converted into an integer number."
   ]
  },
  {
   "cell_type": "code",
   "execution_count": 8,
   "id": "29851f0a",
   "metadata": {},
   "outputs": [
    {
     "name": "stdout",
     "output_type": "stream",
     "text": [
      "5\n",
      "<class 'int'>\n"
     ]
    }
   ],
   "source": [
    "x = 5.9\n",
    "y = int(x)\n",
    "print(y)\n",
    "print(type(y))"
   ]
  },
  {
   "cell_type": "markdown",
   "id": "599a929f",
   "metadata": {},
   "source": [
    "- float() :- This function is used to get an floating-point number. It returns an expression converted into floating-point value."
   ]
  },
  {
   "cell_type": "code",
   "execution_count": 9,
   "id": "eecc9ddc",
   "metadata": {},
   "outputs": [
    {
     "name": "stdout",
     "output_type": "stream",
     "text": [
      "5.0\n",
      "<class 'float'>\n"
     ]
    }
   ],
   "source": [
    "x = 5\n",
    "y = float(x)\n",
    "print(y)\n",
    "print(type(y))"
   ]
  },
  {
   "cell_type": "markdown",
   "id": "88ef5ba1",
   "metadata": {},
   "source": [
    "- Str() :- Converts to a string."
   ]
  },
  {
   "cell_type": "code",
   "execution_count": 10,
   "id": "2c99c06c",
   "metadata": {},
   "outputs": [
    {
     "name": "stdout",
     "output_type": "stream",
     "text": [
      "5\n",
      "<class 'str'>\n"
     ]
    }
   ],
   "source": [
    "x = 5\n",
    "y = str(x)\n",
    "print(y)\n",
    "print(type(y))"
   ]
  },
  {
   "cell_type": "markdown",
   "id": "5c85f93e",
   "metadata": {},
   "source": [
    "# 10. Why does this expression cause an error ? How can you fix it ?\n",
    "\n",
    "'I have eaten' + 99 + 'burritos'"
   ]
  },
  {
   "cell_type": "code",
   "execution_count": 12,
   "id": "e5ad6b72",
   "metadata": {},
   "outputs": [
    {
     "ename": "TypeError",
     "evalue": "can only concatenate str (not \"int\") to str",
     "output_type": "error",
     "traceback": [
      "\u001b[1;31m---------------------------------------------------------------------------\u001b[0m",
      "\u001b[1;31mTypeError\u001b[0m                                 Traceback (most recent call last)",
      "\u001b[1;32m~\\AppData\\Local\\Temp\\ipykernel_12632\\207349434.py\u001b[0m in \u001b[0;36m<module>\u001b[1;34m\u001b[0m\n\u001b[1;32m----> 1\u001b[1;33m \u001b[0mprint\u001b[0m\u001b[1;33m(\u001b[0m\u001b[1;34m'I have eaten'\u001b[0m \u001b[1;33m+\u001b[0m \u001b[1;36m99\u001b[0m \u001b[1;33m+\u001b[0m \u001b[1;34m'burritos'\u001b[0m\u001b[1;33m)\u001b[0m\u001b[1;33m\u001b[0m\u001b[1;33m\u001b[0m\u001b[0m\n\u001b[0m",
      "\u001b[1;31mTypeError\u001b[0m: can only concatenate str (not \"int\") to str"
     ]
    }
   ],
   "source": [
    "print('I have eaten' + 99 + 'burritos')"
   ]
  },
  {
   "cell_type": "markdown",
   "id": "669e9513",
   "metadata": {},
   "source": [
    "- This expression can causes an error because in this line 'I have eaten' and 'burritos' are strings, while 99 is treated as integer.\n",
    "- In order to fix it print 'I have eaten 99 burritos', 99 nneds \" \" around it to treat it as string."
   ]
  },
  {
   "cell_type": "code",
   "execution_count": 13,
   "id": "6faf61ba",
   "metadata": {},
   "outputs": [
    {
     "name": "stdout",
     "output_type": "stream",
     "text": [
      "I have eaten 99 burritos\n"
     ]
    }
   ],
   "source": [
    "print('I have eaten 99 burritos')"
   ]
  }
 ],
 "metadata": {
  "kernelspec": {
   "display_name": "Python 3 (ipykernel)",
   "language": "python",
   "name": "python3"
  },
  "language_info": {
   "codemirror_mode": {
    "name": "ipython",
    "version": 3
   },
   "file_extension": ".py",
   "mimetype": "text/x-python",
   "name": "python",
   "nbconvert_exporter": "python",
   "pygments_lexer": "ipython3",
   "version": "3.9.13"
  }
 },
 "nbformat": 4,
 "nbformat_minor": 5
}
